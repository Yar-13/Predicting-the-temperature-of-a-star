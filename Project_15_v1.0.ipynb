{
 "cells": [
  {
   "cell_type": "markdown",
   "id": "19e3ffe1",
   "metadata": {},
   "source": [
    "# Описание проекта"
   ]
  },
  {
   "cell_type": "markdown",
   "id": "400719be",
   "metadata": {},
   "source": [
    "## Прогнозирование температуры звезды"
   ]
  },
  {
   "cell_type": "markdown",
   "id": "b2a1f561",
   "metadata": {},
   "source": [
    "Имеется задача от обсерватории \"Небо на ладони\": придумать, как с помощью нейросети определять температуру на поверхности обнаруженных звёзд. Обсерватория хочет внедрить технологии машинного обучения для предсказания температуры звёзд, надеясь, что этот метод будет наиболее точным и удобным. В базе обсерватории есть характеристики уже изученных 240 звёзд.\n",
    "\n",
    "**Задача:**\n",
    "\n",
    "Разработать и обучить нейронную сеть для предсказания температуры звезды по входным данным."
   ]
  },
  {
   "cell_type": "markdown",
   "id": "86ff977e",
   "metadata": {},
   "source": [
    "# Подготовка среды"
   ]
  },
  {
   "cell_type": "code",
   "execution_count": 1,
   "id": "10252d12",
   "metadata": {},
   "outputs": [],
   "source": [
    "import pandas as pd #'2.2.3'\n",
    "import matplotlib #'3.10.1'\n",
    "import matplotlib.pyplot as plt\n",
    "import seaborn as sns #'0.13.2'\n",
    "import numpy as np # '2.2.3'\n",
    "import sklearn #'1.6.1'\n",
    "from time import time\n",
    "import os\n",
    "# import re\n",
    "# import datetime\n",
    "\n",
    "from sklearn.preprocessing import StandardScaler, OneHotEncoder\n",
    "from sklearn.metrics import root_mean_squared_error\n",
    "from sklearn.model_selection import train_test_split, GridSearchCV, RandomizedSearchCV\n",
    "from sklearn.compose import ColumnTransformer\n",
    "\n",
    "\n",
    "import torch #2.6.0+cpu\n",
    "from torch import nn\n",
    "\n",
    "from IPython.display import clear_output\n",
    "\n",
    "# убрать предупреждения\n",
    "import warnings\n",
    "warnings.filterwarnings('ignore')\n",
    "\n",
    "# настроим точность вывода до 2-х десятичных знаков и разделители тысяч (групп разрядов) для больших чисел\n",
    "pd.set_option('display.float_format', '{:,.2f}'.format)\n",
    "\n",
    "# необходимо для показа всех столбцов.\n",
    "pd.options.display.max_columns = None\n",
    "\n",
    "from IPython.core.interactiveshell import InteractiveShell\n",
    "InteractiveShell.ast_node_interactivity = \"all\""
   ]
  },
  {
   "cell_type": "markdown",
   "id": "6e9f50b3",
   "metadata": {},
   "source": [
    "# Объявление констант и определение функций"
   ]
  },
  {
   "cell_type": "code",
   "execution_count": 2,
   "id": "8bbae34e",
   "metadata": {},
   "outputs": [],
   "source": [
    "L0 = 3.828 * 10 ** 26 # светимость солнца в ваттах\n",
    "R0 = 6.9551 * 10 ** 8 # радиус солнца в метрах\n",
    "random_state = 13"
   ]
  },
  {
   "cell_type": "code",
   "execution_count": 3,
   "id": "5e2aa36c",
   "metadata": {},
   "outputs": [],
   "source": [
    "def num_plots(col, title, bins=50):\n",
    "    '''Построение графиков для анализа количествнных данных'''\n",
    "    fig, (ax1, ax2) = plt.subplots(2, 1, figsize = (12, 8))\n",
    "    \n",
    "    fig.suptitle(title)\n",
    "    \n",
    "    \n",
    "    ax1.boxplot(data[col], vert=False)\n",
    "    ax1.set(ylabel='item', xlabel='value')\n",
    "    \n",
    "    ax2.hist(data[col], bins=bins, rwidth=0.8)\n",
    "    ax2.set(ylabel='count of entries', xlabel='value')\n",
    "    \n",
    "    clear_output()\n",
    "    plt.show()"
   ]
  },
  {
   "cell_type": "code",
   "execution_count": 4,
   "id": "5ce91e90",
   "metadata": {},
   "outputs": [],
   "source": [
    "def rmse_loss(y_pred, y_true):\n",
    "    l = nn.MSELoss()\n",
    "    lv = torch.sqrt(l(y_pred, y_true))\n",
    "    return lv.float()"
   ]
  },
  {
   "cell_type": "code",
   "execution_count": 5,
   "id": "145ad6b4",
   "metadata": {},
   "outputs": [],
   "source": [
    "# mse_loss = nn.MSELoss()\n",
    "\n",
    "def net_improver(num_epochs):\n",
    "    for epoch in range(num_epochs):\n",
    "        reg_net.train()\n",
    "        optimizer.zero_grad()\n",
    "        preds = reg_net.forward(x_train_tensor)\n",
    "        loss_val = rmse_loss(preds, torch.from_numpy(np.array(y_train)).float())\n",
    "#         loss_val = mse_loss(preds, torch.from_numpy(np.array(y_train)).float())\n",
    "        loss_val.backward()\n",
    "        optimizer.step()\n",
    "        \n",
    "        if epoch % 100 == 0:\n",
    "            reg_net.eval()\n",
    "            with torch.no_grad():\n",
    "                test_preds = reg_net.forward(x_test_tensor)\n",
    "                rmse = rmse_loss(test_preds, torch.from_numpy(np.array(y_test))).data\n",
    "            print(f'epochs: {epoch}    rmse: {rmse}')"
   ]
  },
  {
   "cell_type": "markdown",
   "id": "e1344810",
   "metadata": {},
   "source": [
    "# Загрузка и описание данных"
   ]
  },
  {
   "cell_type": "markdown",
   "id": "d508de0f",
   "metadata": {},
   "source": [
    "- **id** уникальный идентификатор в таблице.\n",
    "- **lumin** Относительная светимость L/Lo — светимость звезды относительно Солнца.\n",
    "- **radius** Относительный радиус R/Ro — радиус звезды относительно радиуса Солнца.\n",
    "- **abs_magn** Абсолютная звёздная величина Mv — физическая величина, характеризующая блеск звезды.\n",
    "- **star_color** Звёздный цвет (white, red, blue, yellow, yellow-orange и др.) — цвет звезды, который определяют на основе спектрального анализа.\n",
    "- **star_type** Тип звезды.\n",
    "- **temp** Абсолютная температура T(K) — температура на поверхности звезды в Кельвинах.\n",
    "\n",
    "\n",
    "|Тип звезды | Номер, соответствующий типу|\n",
    "|----|----|\n",
    "|Коричневый карлик | 0|\n",
    "|Красный карлик | 1|\n",
    "|Белый карлик | 2|\n",
    "|Звёзды главной последовательности | 3|\n",
    "|Сверхгигант | 4|\n",
    "|Гипергигант | 5|"
   ]
  },
  {
   "cell_type": "code",
   "execution_count": 6,
   "id": "24f0d02a",
   "metadata": {},
   "outputs": [],
   "source": [
    "if os.path.exists('6_class.csv'):\n",
    "    data = pd.read_csv('6_class.csv')\n",
    "elif os.path.exists('/datasets/6_class.csv'):\n",
    "    data = pd.read_csv('/datasets/6_class.csv')\n",
    "else:\n",
    "    raise FileNotFoundError('csv file not found')"
   ]
  },
  {
   "cell_type": "code",
   "execution_count": 7,
   "id": "430f3d3f",
   "metadata": {},
   "outputs": [],
   "source": [
    "data.columns = ['id', 'temp', 'lumin', 'radius', 'abs_magn', 'star_type', 'star_color']"
   ]
  },
  {
   "cell_type": "code",
   "execution_count": 8,
   "id": "1b9da739",
   "metadata": {},
   "outputs": [
    {
     "data": {
      "text/html": [
       "<div>\n",
       "<style scoped>\n",
       "    .dataframe tbody tr th:only-of-type {\n",
       "        vertical-align: middle;\n",
       "    }\n",
       "\n",
       "    .dataframe tbody tr th {\n",
       "        vertical-align: top;\n",
       "    }\n",
       "\n",
       "    .dataframe thead th {\n",
       "        text-align: right;\n",
       "    }\n",
       "</style>\n",
       "<table border=\"1\" class=\"dataframe\">\n",
       "  <thead>\n",
       "    <tr style=\"text-align: right;\">\n",
       "      <th></th>\n",
       "      <th>id</th>\n",
       "      <th>temp</th>\n",
       "      <th>lumin</th>\n",
       "      <th>radius</th>\n",
       "      <th>abs_magn</th>\n",
       "      <th>star_type</th>\n",
       "      <th>star_color</th>\n",
       "    </tr>\n",
       "  </thead>\n",
       "  <tbody>\n",
       "    <tr>\n",
       "      <th>0</th>\n",
       "      <td>0</td>\n",
       "      <td>3068</td>\n",
       "      <td>0.00</td>\n",
       "      <td>0.17</td>\n",
       "      <td>16.12</td>\n",
       "      <td>0</td>\n",
       "      <td>Red</td>\n",
       "    </tr>\n",
       "    <tr>\n",
       "      <th>1</th>\n",
       "      <td>1</td>\n",
       "      <td>3042</td>\n",
       "      <td>0.00</td>\n",
       "      <td>0.15</td>\n",
       "      <td>16.60</td>\n",
       "      <td>0</td>\n",
       "      <td>Red</td>\n",
       "    </tr>\n",
       "    <tr>\n",
       "      <th>2</th>\n",
       "      <td>2</td>\n",
       "      <td>2600</td>\n",
       "      <td>0.00</td>\n",
       "      <td>0.10</td>\n",
       "      <td>18.70</td>\n",
       "      <td>0</td>\n",
       "      <td>Red</td>\n",
       "    </tr>\n",
       "    <tr>\n",
       "      <th>3</th>\n",
       "      <td>3</td>\n",
       "      <td>2800</td>\n",
       "      <td>0.00</td>\n",
       "      <td>0.16</td>\n",
       "      <td>16.65</td>\n",
       "      <td>0</td>\n",
       "      <td>Red</td>\n",
       "    </tr>\n",
       "    <tr>\n",
       "      <th>4</th>\n",
       "      <td>4</td>\n",
       "      <td>1939</td>\n",
       "      <td>0.00</td>\n",
       "      <td>0.10</td>\n",
       "      <td>20.06</td>\n",
       "      <td>0</td>\n",
       "      <td>Red</td>\n",
       "    </tr>\n",
       "  </tbody>\n",
       "</table>\n",
       "</div>"
      ],
      "text/plain": [
       "   id  temp  lumin  radius  abs_magn  star_type star_color\n",
       "0   0  3068   0.00    0.17     16.12          0        Red\n",
       "1   1  3042   0.00    0.15     16.60          0        Red\n",
       "2   2  2600   0.00    0.10     18.70          0        Red\n",
       "3   3  2800   0.00    0.16     16.65          0        Red\n",
       "4   4  1939   0.00    0.10     20.06          0        Red"
      ]
     },
     "execution_count": 8,
     "metadata": {},
     "output_type": "execute_result"
    }
   ],
   "source": [
    "data.head()"
   ]
  },
  {
   "cell_type": "code",
   "execution_count": 9,
   "id": "53e0a650",
   "metadata": {
    "scrolled": true
   },
   "outputs": [
    {
     "name": "stdout",
     "output_type": "stream",
     "text": [
      "<class 'pandas.core.frame.DataFrame'>\n",
      "RangeIndex: 240 entries, 0 to 239\n",
      "Data columns (total 7 columns):\n",
      " #   Column      Non-Null Count  Dtype  \n",
      "---  ------      --------------  -----  \n",
      " 0   id          240 non-null    int64  \n",
      " 1   temp        240 non-null    int64  \n",
      " 2   lumin       240 non-null    float64\n",
      " 3   radius      240 non-null    float64\n",
      " 4   abs_magn    240 non-null    float64\n",
      " 5   star_type   240 non-null    int64  \n",
      " 6   star_color  240 non-null    object \n",
      "dtypes: float64(3), int64(3), object(1)\n",
      "memory usage: 13.3+ KB\n"
     ]
    }
   ],
   "source": [
    "data.info()"
   ]
  },
  {
   "cell_type": "code",
   "execution_count": 10,
   "id": "127ce5a1",
   "metadata": {},
   "outputs": [],
   "source": [
    "data['star_type'] = data['star_type'].astype('object')"
   ]
  },
  {
   "cell_type": "markdown",
   "id": "0a0c54cd",
   "metadata": {},
   "source": [
    "**Промежуточный вывод:**\n",
    "\n",
    "На этапе загрузки и ознакомления с данными был произведён общий осмотр данных и информации о признаках."
   ]
  },
  {
   "cell_type": "markdown",
   "id": "491259a2",
   "metadata": {},
   "source": [
    "# Предобработка данных"
   ]
  },
  {
   "cell_type": "code",
   "execution_count": 11,
   "id": "af5fd5f0",
   "metadata": {},
   "outputs": [
    {
     "data": {
      "text/plain": [
       "id            0\n",
       "temp          0\n",
       "lumin         0\n",
       "radius        0\n",
       "abs_magn      0\n",
       "star_type     0\n",
       "star_color    0\n",
       "dtype: int64"
      ]
     },
     "execution_count": 11,
     "metadata": {},
     "output_type": "execute_result"
    }
   ],
   "source": [
    "data.isna().sum()"
   ]
  },
  {
   "cell_type": "code",
   "execution_count": 12,
   "id": "806aac89",
   "metadata": {},
   "outputs": [
    {
     "data": {
      "text/plain": [
       "np.int64(0)"
      ]
     },
     "execution_count": 12,
     "metadata": {},
     "output_type": "execute_result"
    }
   ],
   "source": [
    "data.duplicated().sum()"
   ]
  },
  {
   "cell_type": "markdown",
   "id": "e432ac3c",
   "metadata": {},
   "source": [
    "**Промежуточный вывод:**\n",
    "\n",
    "Предобработка данных показала чистоту данных: ни пропусков, ни дубликатов в датасете нет."
   ]
  },
  {
   "cell_type": "markdown",
   "id": "ebe7f348",
   "metadata": {},
   "source": [
    "# EDA"
   ]
  },
  {
   "cell_type": "code",
   "execution_count": 13,
   "id": "08670814",
   "metadata": {},
   "outputs": [
    {
     "data": {
      "text/html": [
       "<div>\n",
       "<style scoped>\n",
       "    .dataframe tbody tr th:only-of-type {\n",
       "        vertical-align: middle;\n",
       "    }\n",
       "\n",
       "    .dataframe tbody tr th {\n",
       "        vertical-align: top;\n",
       "    }\n",
       "\n",
       "    .dataframe thead th {\n",
       "        text-align: right;\n",
       "    }\n",
       "</style>\n",
       "<table border=\"1\" class=\"dataframe\">\n",
       "  <thead>\n",
       "    <tr style=\"text-align: right;\">\n",
       "      <th></th>\n",
       "      <th>id</th>\n",
       "      <th>temp</th>\n",
       "      <th>lumin</th>\n",
       "      <th>radius</th>\n",
       "      <th>abs_magn</th>\n",
       "    </tr>\n",
       "  </thead>\n",
       "  <tbody>\n",
       "    <tr>\n",
       "      <th>count</th>\n",
       "      <td>240.00</td>\n",
       "      <td>240.00</td>\n",
       "      <td>240.00</td>\n",
       "      <td>240.00</td>\n",
       "      <td>240.00</td>\n",
       "    </tr>\n",
       "    <tr>\n",
       "      <th>mean</th>\n",
       "      <td>119.50</td>\n",
       "      <td>10,497.46</td>\n",
       "      <td>107,188.36</td>\n",
       "      <td>237.16</td>\n",
       "      <td>4.38</td>\n",
       "    </tr>\n",
       "    <tr>\n",
       "      <th>std</th>\n",
       "      <td>69.43</td>\n",
       "      <td>9,552.43</td>\n",
       "      <td>179,432.24</td>\n",
       "      <td>517.16</td>\n",
       "      <td>10.53</td>\n",
       "    </tr>\n",
       "    <tr>\n",
       "      <th>min</th>\n",
       "      <td>0.00</td>\n",
       "      <td>1,939.00</td>\n",
       "      <td>0.00</td>\n",
       "      <td>0.01</td>\n",
       "      <td>-11.92</td>\n",
       "    </tr>\n",
       "    <tr>\n",
       "      <th>25%</th>\n",
       "      <td>59.75</td>\n",
       "      <td>3,344.25</td>\n",
       "      <td>0.00</td>\n",
       "      <td>0.10</td>\n",
       "      <td>-6.23</td>\n",
       "    </tr>\n",
       "    <tr>\n",
       "      <th>50%</th>\n",
       "      <td>119.50</td>\n",
       "      <td>5,776.00</td>\n",
       "      <td>0.07</td>\n",
       "      <td>0.76</td>\n",
       "      <td>8.31</td>\n",
       "    </tr>\n",
       "    <tr>\n",
       "      <th>75%</th>\n",
       "      <td>179.25</td>\n",
       "      <td>15,055.50</td>\n",
       "      <td>198,050.00</td>\n",
       "      <td>42.75</td>\n",
       "      <td>13.70</td>\n",
       "    </tr>\n",
       "    <tr>\n",
       "      <th>max</th>\n",
       "      <td>239.00</td>\n",
       "      <td>40,000.00</td>\n",
       "      <td>849,420.00</td>\n",
       "      <td>1,948.50</td>\n",
       "      <td>20.06</td>\n",
       "    </tr>\n",
       "  </tbody>\n",
       "</table>\n",
       "</div>"
      ],
      "text/plain": [
       "          id      temp      lumin   radius  abs_magn\n",
       "count 240.00    240.00     240.00   240.00    240.00\n",
       "mean  119.50 10,497.46 107,188.36   237.16      4.38\n",
       "std    69.43  9,552.43 179,432.24   517.16     10.53\n",
       "min     0.00  1,939.00       0.00     0.01    -11.92\n",
       "25%    59.75  3,344.25       0.00     0.10     -6.23\n",
       "50%   119.50  5,776.00       0.07     0.76      8.31\n",
       "75%   179.25 15,055.50 198,050.00    42.75     13.70\n",
       "max   239.00 40,000.00 849,420.00 1,948.50     20.06"
      ]
     },
     "execution_count": 13,
     "metadata": {},
     "output_type": "execute_result"
    }
   ],
   "source": [
    "data.describe()"
   ]
  },
  {
   "cell_type": "code",
   "execution_count": 14,
   "id": "e576aa1b",
   "metadata": {
    "scrolled": false
   },
   "outputs": [
    {
     "data": {
      "image/png": "[encoded data removed]",
      "text/plain": [
       "<Figure size 1200x800 with 2 Axes>"
      ]
     },
     "metadata": {},
     "output_type": "display_data"
    }
   ],
   "source": [
    "num_plots('lumin', 'Относительная светимость L/Lo')"
   ]
  },
  {
   "cell_type": "markdown",
   "id": "8cef9170",
   "metadata": {},
   "source": [
    "Большая часть звёзд в данных имеет сопоставимую с солнцем светимость.\n",
    "\n",
    "---"
   ]
  },
  {
   "cell_type": "code",
   "execution_count": 15,
   "id": "633bc97b",
   "metadata": {
    "scrolled": false
   },
   "outputs": [
    {
     "data": {
      "image/png": "[encoded data removed]",
      "text/plain": [
       "<Figure size 1200x800 with 2 Axes>"
      ]
     },
     "metadata": {},
     "output_type": "display_data"
    }
   ],
   "source": [
    "num_plots('radius', 'Относительный радиус R/Ro')"
   ]
  },
  {
   "cell_type": "markdown",
   "id": "00dce261",
   "metadata": {},
   "source": [
    "Большая часть звёзд в данных имеет сопоставимый с солнцем радиус.\n",
    "\n",
    "---"
   ]
  },
  {
   "cell_type": "code",
   "execution_count": 16,
   "id": "55c12aad",
   "metadata": {},
   "outputs": [
    {
     "data": {
      "image/png": "[encoded data removed]",
      "text/plain": [
       "<Figure size 1200x800 with 2 Axes>"
      ]
     },
     "metadata": {},
     "output_type": "display_data"
    }
   ],
   "source": [
    "num_plots('abs_magn', 'Абсолютная звёздная величина Mv', bins=15)"
   ]
  },
  {
   "cell_type": "markdown",
   "id": "aadb6e71",
   "metadata": {},
   "source": [
    "Данный признак имеет необычное распределение с \"седлом\" по середине значений данных.\n",
    "\n",
    "---"
   ]
  },
  {
   "cell_type": "code",
   "execution_count": 17,
   "id": "8c7fb520",
   "metadata": {},
   "outputs": [
    {
     "data": {
      "image/png": "[encoded data removed]",
      "text/plain": [
       "<Figure size 1200x800 with 2 Axes>"
      ]
     },
     "metadata": {},
     "output_type": "display_data"
    }
   ],
   "source": [
    "num_plots('temp', 'Абсолютная температура T(K)')"
   ]
  },
  {
   "cell_type": "markdown",
   "id": "d7abbf4a",
   "metadata": {},
   "source": [
    "Целевой признак показывает те же тендеции, что и остальные числовые признаки. \n",
    "\n",
    "---\n",
    "\n",
    "---\n",
    "\n",
    "---"
   ]
  },
  {
   "cell_type": "code",
   "execution_count": 18,
   "id": "fe0c3be7",
   "metadata": {
    "scrolled": true
   },
   "outputs": [
    {
     "data": {
      "text/html": [
       "<div>\n",
       "<style scoped>\n",
       "    .dataframe tbody tr th:only-of-type {\n",
       "        vertical-align: middle;\n",
       "    }\n",
       "\n",
       "    .dataframe tbody tr th {\n",
       "        vertical-align: top;\n",
       "    }\n",
       "\n",
       "    .dataframe thead th {\n",
       "        text-align: right;\n",
       "    }\n",
       "</style>\n",
       "<table border=\"1\" class=\"dataframe\">\n",
       "  <thead>\n",
       "    <tr style=\"text-align: right;\">\n",
       "      <th></th>\n",
       "      <th>star_type</th>\n",
       "      <th>star_color</th>\n",
       "    </tr>\n",
       "  </thead>\n",
       "  <tbody>\n",
       "    <tr>\n",
       "      <th>count</th>\n",
       "      <td>240</td>\n",
       "      <td>240</td>\n",
       "    </tr>\n",
       "    <tr>\n",
       "      <th>unique</th>\n",
       "      <td>6</td>\n",
       "      <td>19</td>\n",
       "    </tr>\n",
       "    <tr>\n",
       "      <th>top</th>\n",
       "      <td>0</td>\n",
       "      <td>Red</td>\n",
       "    </tr>\n",
       "    <tr>\n",
       "      <th>freq</th>\n",
       "      <td>40</td>\n",
       "      <td>112</td>\n",
       "    </tr>\n",
       "  </tbody>\n",
       "</table>\n",
       "</div>"
      ],
      "text/plain": [
       "        star_type star_color\n",
       "count         240        240\n",
       "unique          6         19\n",
       "top             0        Red\n",
       "freq           40        112"
      ]
     },
     "execution_count": 18,
     "metadata": {},
     "output_type": "execute_result"
    }
   ],
   "source": [
    "data.describe(include='object')"
   ]
  },
  {
   "cell_type": "code",
   "execution_count": 19,
   "id": "81af1874",
   "metadata": {},
   "outputs": [
    {
     "data": {
      "image/png": "[encoded data removed]",
      "text/plain": [
       "<Figure size 800x800 with 1 Axes>"
      ]
     },
     "metadata": {},
     "output_type": "display_data"
    }
   ],
   "source": [
    "col = 'star_type'\n",
    "title = 'Тип звезды'\n",
    "\n",
    "\n",
    "stt_labels = ['Коричневый карлик',\n",
    " 'Красный карлик',\n",
    " 'Белый карлик',\n",
    " 'Звёзды главной последовательности',\n",
    " 'Сверхгигант',\n",
    " 'Гипергигант']\n",
    "\n",
    "\n",
    "strt = data['star_type'].value_counts().reset_index()\n",
    "\n",
    "fig, ax = plt.subplots(figsize=(8, 8))\n",
    "\n",
    "ax.pie(strt['count'], labels=stt_labels, autopct='%1.1f%%')\n",
    "ax.set(title=title)\n",
    "\n",
    "clear_output()\n",
    "plt.show()"
   ]
  },
  {
   "cell_type": "markdown",
   "id": "7a7e7700",
   "metadata": {},
   "source": [
    "В данных по типам звёзд абсолютное равномерное распределение типов. \n",
    "\n",
    "---"
   ]
  },
  {
   "cell_type": "code",
   "execution_count": 20,
   "id": "9a99bbac",
   "metadata": {
    "scrolled": true
   },
   "outputs": [
    {
     "data": {
      "text/plain": [
       "['Blue',\n",
       " 'Blue ',\n",
       " 'Blue White',\n",
       " 'Blue white',\n",
       " 'Blue white ',\n",
       " 'Blue-White',\n",
       " 'Blue-white',\n",
       " 'Orange',\n",
       " 'Orange-Red',\n",
       " 'Pale yellow orange',\n",
       " 'Red',\n",
       " 'White',\n",
       " 'White-Yellow',\n",
       " 'Whitish',\n",
       " 'Yellowish',\n",
       " 'Yellowish White',\n",
       " 'white',\n",
       " 'yellow-white',\n",
       " 'yellowish']"
      ]
     },
     "execution_count": 20,
     "metadata": {},
     "output_type": "execute_result"
    }
   ],
   "source": [
    "sorted(data['star_color'].unique().tolist())\n",
    "# данные содержат неявные дубликаты по цвету звезды.\n",
    "data.loc[data['star_color'] == 'Blue ', 'star_color'] = 'Blue'\n",
    "data.loc[data['star_color'].isin(['Blue White', 'Blue white', 'Blue white ', 'Blue-White', 'Blue-white']), 'star_color'] = 'blue_white'\n",
    "data.loc[data['star_color'].isin(['White-Yellow', 'Yellowish White', 'yellow-white',]), 'star_color'] = 'yellow_white'\n",
    "data.loc[data['star_color'].isin(['White', 'Whitish', 'white']), 'star_color'] = 'white'\n",
    "data.loc[data['star_color'].isin(['yellowish', 'Yellowish']), 'star_color'] = 'yellow'"
   ]
  },
  {
   "cell_type": "code",
   "execution_count": 21,
   "id": "68f949fd",
   "metadata": {
    "scrolled": false
   },
   "outputs": [
    {
     "data": {
      "image/png": "[encoded data removed]",
      "text/plain": [
       "<Figure size 1200x500 with 1 Axes>"
      ]
     },
     "metadata": {},
     "output_type": "display_data"
    }
   ],
   "source": [
    "col = 'star_color'\n",
    "title = 'цвет звезды'\n",
    "\n",
    "strc = data['star_color'].value_counts().reset_index()\n",
    "\n",
    "fig, ax = plt.subplots(figsize=(12, 5))\n",
    "\n",
    "ax.bar(strc['star_color'], strc['count'])\n",
    "fig.autofmt_xdate()\n",
    "ax.set(title=title)\n",
    "\n",
    "clear_output()\n",
    "plt.show()"
   ]
  },
  {
   "cell_type": "markdown",
   "id": "b8029be5",
   "metadata": {},
   "source": [
    "Тип цвета звезды в данных имеет большое разнообразие и неравномерное количество записей по каждому цвету.\n",
    "\n",
    "---"
   ]
  },
  {
   "cell_type": "raw",
   "id": "16084bab",
   "metadata": {},
   "source": [
    "sns.pairplot(data)\n",
    "plt.show()"
   ]
  },
  {
   "cell_type": "raw",
   "id": "f011573a",
   "metadata": {},
   "source": [
    "fig, ax = plt.subplots(figsize=(12, 5))\n",
    "\n",
    "ax.scatter(data['temp'], data['star_color'])\n",
    "\n",
    "clear_output()\n",
    "plt.show()"
   ]
  },
  {
   "cell_type": "markdown",
   "id": "be186150",
   "metadata": {},
   "source": [
    "**Промежуточный вывод:**\n",
    "\n",
    "Исследовательский анализ данных показал общую тенденцию и распределение числовых и категориальных признаков, а также целевого признака."
   ]
  },
  {
   "cell_type": "markdown",
   "id": "674922a6",
   "metadata": {},
   "source": [
    "# Построение базовой НС"
   ]
  },
  {
   "cell_type": "code",
   "execution_count": 22,
   "id": "f9d41315",
   "metadata": {},
   "outputs": [],
   "source": [
    "df = data.drop('id', axis=1)"
   ]
  },
  {
   "cell_type": "code",
   "execution_count": 86,
   "id": "08b3a7fd",
   "metadata": {},
   "outputs": [],
   "source": [
    "x = df[['lumin', 'radius', 'abs_magn', 'star_type', 'star_color']]\n",
    "y = df['temp']\n",
    "\n",
    "x_train, x_test, y_train, y_test = train_test_split(x, y, stratify=x['star_type'], test_size=0.3, random_state=random_state)"
   ]
  },
  {
   "cell_type": "code",
   "execution_count": 87,
   "id": "0cdac7ca",
   "metadata": {},
   "outputs": [],
   "source": [
    "target = 'temp'\n",
    "cat_cols = ['star_type', 'star_color']\n",
    "num_cols = ['lumin', 'radius', 'abs_magn']\n",
    "\n",
    "data_preprocessor = ColumnTransformer(\n",
    "    [\n",
    "        ('cat', OneHotEncoder(categories=[x[cat_cols[0]].unique().tolist(), x[cat_cols[1]].unique().tolist()], sparse_output=False), cat_cols),\n",
    "        ('num', StandardScaler(), num_cols)\n",
    "    ],\n",
    "    remainder='passthrough'\n",
    ")"
   ]
  },
  {
   "cell_type": "code",
   "execution_count": 88,
   "id": "43488f6e",
   "metadata": {},
   "outputs": [],
   "source": [
    "x_train_prep = data_preprocessor.fit_transform(x_train)\n",
    "x_test_prep = data_preprocessor.transform(x_test)"
   ]
  },
  {
   "cell_type": "code",
   "execution_count": 89,
   "id": "3ab3bd04",
   "metadata": {},
   "outputs": [],
   "source": [
    "x_train_tensor = torch.from_numpy(x_train_prep).float()\n",
    "x_test_tensor = torch.from_numpy(x_test_prep).float()"
   ]
  },
  {
   "cell_type": "code",
   "execution_count": 90,
   "id": "8460c332",
   "metadata": {},
   "outputs": [],
   "source": [
    "class Net(nn.Module):\n",
    "    '''Класс полносвязной нейронной сети'''\n",
    "    \n",
    "    def __init__(self, arch_net):\n",
    "        super(Net, self).__init__()\n",
    "        \n",
    "        net_layers = []\n",
    "        \n",
    "        for i in range(len(arch_net)-1):\n",
    "            net_layers.append(nn.Linear(arch_net[i][0], arch_net[i+1][0]))\n",
    "            if arch_net[i][1] != None:\n",
    "                net_layers.append(arch_net[i][1])\n",
    "        \n",
    "        self.net = nn.Sequential(*net_layers)\n",
    "        \n",
    "        self.net.apply(self.init_weights)\n",
    "    \n",
    "    def forward(self, x):\n",
    "        return self.net.forward(x)\n",
    "    \n",
    "    def init_weights(self, layer):\n",
    "        '''Инициализация весов слоёв'''\n",
    "        if type(layer) == nn.Linear:\n",
    "            nn.init.normal_(layer.weight, mean=0.0, std=1)\n",
    "            nn.init.normal_(layer.bias, mean=0.0, std=0.5)"
   ]
  },
  {
   "cell_type": "code",
   "execution_count": 117,
   "id": "833fd5fe",
   "metadata": {},
   "outputs": [],
   "source": [
    "arch_net = [\n",
    "    (18, nn.Sigmoid()),\n",
    "    (32, nn.ReLU()),\n",
    "    (16, None),\n",
    "    (1, None)\n",
    "]"
   ]
  },
  {
   "cell_type": "code",
   "execution_count": 118,
   "id": "3e3e650f",
   "metadata": {},
   "outputs": [],
   "source": [
    "reg_net = Net(arch_net)\n",
    "optimizer = torch.optim.Adam(reg_net.parameters(), lr=5.0e-2)"
   ]
  },
  {
   "cell_type": "code",
   "execution_count": 119,
   "id": "7fef8a7b",
   "metadata": {},
   "outputs": [
    {
     "name": "stdout",
     "output_type": "stream",
     "text": [
      "epochs: 0    rmse: 13535.81640625\n",
      "epochs: 100    rmse: 8847.6455078125\n",
      "epochs: 200    rmse: 8849.7724609375\n",
      "epochs: 300    rmse: 8849.529296875\n",
      "epochs: 400    rmse: 8849.5302734375\n",
      "epochs: 500    rmse: 8849.5302734375\n",
      "epochs: 600    rmse: 8849.5302734375\n",
      "epochs: 700    rmse: 8849.5302734375\n",
      "epochs: 800    rmse: 8849.5302734375\n",
      "epochs: 900    rmse: 8849.5302734375\n",
      "epochs: 1000    rmse: 8849.53125\n",
      "epochs: 1100    rmse: 8849.53125\n",
      "epochs: 1200    rmse: 8849.53125\n",
      "epochs: 1300    rmse: 8849.53125\n",
      "epochs: 1400    rmse: 8849.53125\n",
      "epochs: 1500    rmse: 8849.53125\n",
      "epochs: 1600    rmse: 8849.53125\n",
      "epochs: 1700    rmse: 8849.5302734375\n",
      "epochs: 1800    rmse: 8849.53125\n",
      "epochs: 1900    rmse: 8849.53125\n",
      "epochs: 2000    rmse: 8849.53125\n"
     ]
    }
   ],
   "source": [
    "num_epochs = 2001\n",
    "\n",
    "net_improver(num_epochs)"
   ]
  },
  {
   "cell_type": "code",
   "execution_count": 94,
   "id": "e690b20d",
   "metadata": {},
   "outputs": [
    {
     "data": {
      "text/plain": [
       "8849.4306640625"
      ]
     },
     "execution_count": 94,
     "metadata": {},
     "output_type": "execute_result"
    }
   ],
   "source": [
    "root_mean_squared_error(y_test, reg_net.forward(x_test_tensor).detach().numpy())"
   ]
  },
  {
   "cell_type": "markdown",
   "id": "f7797d7c",
   "metadata": {},
   "source": [
    "# Улучшение НС"
   ]
  },
  {
   "cell_type": "code",
   "execution_count": null,
   "id": "b6a05a08",
   "metadata": {},
   "outputs": [],
   "source": []
  },
  {
   "cell_type": "markdown",
   "id": "8d37d6aa",
   "metadata": {},
   "source": [
    "# Выводы"
   ]
  },
  {
   "cell_type": "code",
   "execution_count": null,
   "id": "085dfb41",
   "metadata": {},
   "outputs": [],
   "source": []
  }
 ],
 "metadata": {
  "kernelspec": {
   "display_name": "Python 3 (ipykernel)",
   "language": "python",
   "name": "python3"
  },
  "language_info": {
   "codemirror_mode": {
    "name": "ipython",
    "version": 3
   },
   "file_extension": ".py",
   "mimetype": "text/x-python",
   "name": "python",
   "nbconvert_exporter": "python",
   "pygments_lexer": "ipython3",
   "version": "3.11.11"
  },
  "toc": {
   "base_numbering": 1,
   "nav_menu": {},
   "number_sections": true,
   "sideBar": true,
   "skip_h1_title": true,
   "title_cell": "Table of Contents",
   "title_sidebar": "Contents",
   "toc_cell": true,
   "toc_position": {},
   "toc_section_display": true,
   "toc_window_display": false
  },
  "varInspector": {
   "cols": {
    "lenName": 16,
    "lenType": 16,
    "lenVar": 40
   },
   "kernels_config": {
    "python": {
     "delete_cmd_postfix": "",
     "delete_cmd_prefix": "del ",
     "library": "var_list.py",
     "varRefreshCmd": "print(var_dic_list())"
    },
    "r": {
     "delete_cmd_postfix": ") ",
     "delete_cmd_prefix": "rm(",
     "library": "var_list.r",
     "varRefreshCmd": "cat(var_dic_list()) "
    }
   },
   "types_to_exclude": [
    "module",
    "function",
    "builtin_function_or_method",
    "instance",
    "_Feature"
   ],
   "window_display": false
  }
 },
 "nbformat": 4,
 "nbformat_minor": 5
}
