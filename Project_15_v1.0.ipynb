{
 "cells": [
  {
   "cell_type": "markdown",
   "id": "19e3ffe1",
   "metadata": {},
   "source": [
    "# Описание проекта"
   ]
  },
  {
   "cell_type": "markdown",
   "id": "400719be",
   "metadata": {},
   "source": [
    "## Прогнозирование температуры звезды"
   ]
  },
  {
   "cell_type": "markdown",
   "id": "b2a1f561",
   "metadata": {},
   "source": [
    "Имеется задача от обсерватории \"Небо на ладони\": придумать, как с помощью нейросети определять температуру на поверхности обнаруженных звёзд. Обсерватория хочет внедрить технологии машинного обучения для предсказания температуры звёзд, надеясь, что этот метод будет наиболее точным и удобным. В базе обсерватории есть характеристики уже изученных 240 звёзд.\n",
    "\n",
    "**Задача:**\n",
    "\n",
    "Разработать и обучить нейронную сеть для предсказания температуры звезды по входным данным.\n",
    "\n",
    "\n",
    "---\n",
    "[github](https://github.com/Yar-13/Predicting-the-temperature-of-a-star)"
   ]
  },
  {
   "cell_type": "markdown",
   "id": "86ff977e",
   "metadata": {},
   "source": [
    "# Подготовка среды"
   ]
  },
  {
   "cell_type": "code",
   "execution_count": 24,
   "id": "10252d12",
   "metadata": {},
   "outputs": [],
   "source": [
    "import pandas as pd #'2.2.3'\n",
    "import matplotlib #'3.10.1'\n",
    "import matplotlib.pyplot as plt\n",
    "import seaborn as sns #'0.13.2'\n",
    "import numpy as np # '2.2.3'\n",
    "import sklearn #'1.6.1'\n",
    "from time import time\n",
    "import os\n",
    "import random\n",
    "# import re\n",
    "# import datetime\n",
    "\n",
    "import phik # 0.12.4\n",
    "\n",
    "from sklearn.preprocessing import StandardScaler, OneHotEncoder\n",
    "from sklearn.metrics import root_mean_squared_error\n",
    "from sklearn.model_selection import train_test_split, GridSearchCV, RandomizedSearchCV\n",
    "from sklearn.compose import ColumnTransformer\n",
    "\n",
    "\n",
    "import torch #2.6.0+cpu\n",
    "from torch import nn\n",
    "\n",
    "import skorch # 1.1.0\n",
    "from skorch.regressor import NeuralNetRegressor\n",
    "\n",
    "from IPython.display import clear_output\n",
    "\n",
    "# убрать предупреждения\n",
    "import warnings\n",
    "warnings.filterwarnings('ignore')\n",
    "\n",
    "# настроим точность вывода до 2-х десятичных знаков и разделители тысяч (групп разрядов) для больших чисел\n",
    "pd.set_option('display.float_format', '{:,.2f}'.format)\n",
    "\n",
    "# необходимо для показа всех столбцов.\n",
    "pd.options.display.max_columns = None\n",
    "\n",
    "from IPython.core.interactiveshell import InteractiveShell\n",
    "InteractiveShell.ast_node_interactivity = \"all\""
   ]
  },
  {
   "cell_type": "markdown",
   "id": "6e9f50b3",
   "metadata": {},
   "source": [
    "# Объявление констант и определение функций"
   ]
  },
  {
   "cell_type": "code",
   "execution_count": 2,
   "id": "8bbae34e",
   "metadata": {},
   "outputs": [],
   "source": [
    "L0 = 3.828 * 10 ** 26 # светимость солнца в ваттах\n",
    "R0 = 6.9551 * 10 ** 8 # радиус солнца в метрах\n",
    "random_state = 13\n",
    "\n",
    "# добавление стабильности в работу\n",
    "torch.manual_seed(random_state)\n",
    "torch.cuda.manual_seed(random_state)\n",
    "torch.cuda.manual_seed_all(random_state)\n",
    "torch.use_deterministic_algorithms(True)\n",
    "np.random.seed(random_state)\n",
    "random.seed(random_state)\n",
    "\n",
    "clear_output()"
   ]
  },
  {
   "cell_type": "code",
   "execution_count": 3,
   "id": "5e2aa36c",
   "metadata": {},
   "outputs": [],
   "source": [
    "def num_plots(col, title, bins=50):\n",
    "    '''Построение графиков для анализа количествнных данных'''\n",
    "    fig, (ax1, ax2) = plt.subplots(2, 1, figsize = (12, 8))\n",
    "    \n",
    "    fig.suptitle(title)\n",
    "    \n",
    "    \n",
    "    ax1.boxplot(data[col], vert=False)\n",
    "    ax1.set(ylabel='item', xlabel='value')\n",
    "    \n",
    "    ax2.hist(data[col], bins=bins, rwidth=0.8)\n",
    "    ax2.set(ylabel='count of entries', xlabel='value')\n",
    "    \n",
    "    clear_output()\n",
    "    plt.show()"
   ]
  },
  {
   "cell_type": "code",
   "execution_count": 4,
   "id": "5ce91e90",
   "metadata": {},
   "outputs": [],
   "source": [
    "def rmse_loss(y_pred, y_true):\n",
    "    l = nn.MSELoss()\n",
    "    lv = torch.sqrt(l(y_pred, y_true))\n",
    "    return lv.float()"
   ]
  },
  {
   "cell_type": "code",
   "execution_count": 5,
   "id": "145ad6b4",
   "metadata": {},
   "outputs": [],
   "source": [
    "def net_improver(num_epochs):\n",
    "    rmse_val = []\n",
    "    for epoch in range(num_epochs):\n",
    "        reg_net.train()\n",
    "        optimizer.zero_grad()\n",
    "        preds = reg_net.forward(x_train_tensor).flatten()\n",
    "        loss_val = rmse_loss(preds, y_train_tensor)\n",
    "        loss_val.backward()\n",
    "        optimizer.step()\n",
    "        \n",
    "        if epoch % 100 == 0:\n",
    "            reg_net.eval()\n",
    "            test_preds = reg_net.forward(x_test_tensor).flatten()\n",
    "            rmse = rmse_loss(test_preds, y_test_tensor).data\n",
    "            rmse_val.append(rmse)\n",
    "            print(f'epochs: {epoch}    rmse: {rmse}')\n",
    "    return rmse_val"
   ]
  },
  {
   "cell_type": "markdown",
   "id": "e1344810",
   "metadata": {},
   "source": [
    "# Загрузка и описание данных"
   ]
  },
  {
   "cell_type": "markdown",
   "id": "d508de0f",
   "metadata": {},
   "source": [
    "- **id** уникальный идентификатор в таблице.\n",
    "- **lumin** Относительная светимость L/Lo — светимость звезды относительно Солнца.\n",
    "- **radius** Относительный радиус R/Ro — радиус звезды относительно радиуса Солнца.\n",
    "- **abs_magn** Абсолютная звёздная величина Mv — физическая величина, характеризующая блеск звезды.\n",
    "- **star_color** Звёздный цвет (white, red, blue, yellow, yellow-orange и др.) — цвет звезды, который определяют на основе спектрального анализа.\n",
    "- **star_type** Тип звезды.\n",
    "- **temp** Абсолютная температура T(K) — температура на поверхности звезды в Кельвинах.\n",
    "\n",
    "\n",
    "|Тип звезды | Номер, соответствующий типу|\n",
    "|----|----|\n",
    "|Коричневый карлик | 0|\n",
    "|Красный карлик | 1|\n",
    "|Белый карлик | 2|\n",
    "|Звёзды главной последовательности | 3|\n",
    "|Сверхгигант | 4|\n",
    "|Гипергигант | 5|"
   ]
  },
  {
   "cell_type": "code",
   "execution_count": 6,
   "id": "24f0d02a",
   "metadata": {},
   "outputs": [],
   "source": [
    "if os.path.exists('6_class.csv'):\n",
    "    data = pd.read_csv('6_class.csv')\n",
    "elif os.path.exists('/datasets/6_class.csv'):\n",
    "    data = pd.read_csv('/datasets/6_class.csv')\n",
    "else:\n",
    "    raise FileNotFoundError('csv file not found')"
   ]
  },
  {
   "cell_type": "code",
   "execution_count": 7,
   "id": "430f3d3f",
   "metadata": {},
   "outputs": [],
   "source": [
    "data.columns = ['id', 'temp', 'lumin', 'radius', 'abs_magn', 'star_type', 'star_color']"
   ]
  },
  {
   "cell_type": "code",
   "execution_count": 8,
   "id": "1b9da739",
   "metadata": {},
   "outputs": [
    {
     "data": {
      "text/html": [
       "<div>\n",
       "<style scoped>\n",
       "    .dataframe tbody tr th:only-of-type {\n",
       "        vertical-align: middle;\n",
       "    }\n",
       "\n",
       "    .dataframe tbody tr th {\n",
       "        vertical-align: top;\n",
       "    }\n",
       "\n",
       "    .dataframe thead th {\n",
       "        text-align: right;\n",
       "    }\n",
       "</style>\n",
       "<table border=\"1\" class=\"dataframe\">\n",
       "  <thead>\n",
       "    <tr style=\"text-align: right;\">\n",
       "      <th></th>\n",
       "      <th>id</th>\n",
       "      <th>temp</th>\n",
       "      <th>lumin</th>\n",
       "      <th>radius</th>\n",
       "      <th>abs_magn</th>\n",
       "      <th>star_type</th>\n",
       "      <th>star_color</th>\n",
       "    </tr>\n",
       "  </thead>\n",
       "  <tbody>\n",
       "    <tr>\n",
       "      <th>0</th>\n",
       "      <td>0</td>\n",
       "      <td>3068</td>\n",
       "      <td>0.00</td>\n",
       "      <td>0.17</td>\n",
       "      <td>16.12</td>\n",
       "      <td>0</td>\n",
       "      <td>Red</td>\n",
       "    </tr>\n",
       "    <tr>\n",
       "      <th>1</th>\n",
       "      <td>1</td>\n",
       "      <td>3042</td>\n",
       "      <td>0.00</td>\n",
       "      <td>0.15</td>\n",
       "      <td>16.60</td>\n",
       "      <td>0</td>\n",
       "      <td>Red</td>\n",
       "    </tr>\n",
       "    <tr>\n",
       "      <th>2</th>\n",
       "      <td>2</td>\n",
       "      <td>2600</td>\n",
       "      <td>0.00</td>\n",
       "      <td>0.10</td>\n",
       "      <td>18.70</td>\n",
       "      <td>0</td>\n",
       "      <td>Red</td>\n",
       "    </tr>\n",
       "    <tr>\n",
       "      <th>3</th>\n",
       "      <td>3</td>\n",
       "      <td>2800</td>\n",
       "      <td>0.00</td>\n",
       "      <td>0.16</td>\n",
       "      <td>16.65</td>\n",
       "      <td>0</td>\n",
       "      <td>Red</td>\n",
       "    </tr>\n",
       "    <tr>\n",
       "      <th>4</th>\n",
       "      <td>4</td>\n",
       "      <td>1939</td>\n",
       "      <td>0.00</td>\n",
       "      <td>0.10</td>\n",
       "      <td>20.06</td>\n",
       "      <td>0</td>\n",
       "      <td>Red</td>\n",
       "    </tr>\n",
       "  </tbody>\n",
       "</table>\n",
       "</div>"
      ],
      "text/plain": [
       "   id  temp  lumin  radius  abs_magn  star_type star_color\n",
       "0   0  3068   0.00    0.17     16.12          0        Red\n",
       "1   1  3042   0.00    0.15     16.60          0        Red\n",
       "2   2  2600   0.00    0.10     18.70          0        Red\n",
       "3   3  2800   0.00    0.16     16.65          0        Red\n",
       "4   4  1939   0.00    0.10     20.06          0        Red"
      ]
     },
     "execution_count": 8,
     "metadata": {},
     "output_type": "execute_result"
    }
   ],
   "source": [
    "data.head()"
   ]
  },
  {
   "cell_type": "code",
   "execution_count": 9,
   "id": "53e0a650",
   "metadata": {
    "scrolled": true
   },
   "outputs": [
    {
     "name": "stdout",
     "output_type": "stream",
     "text": [
      "<class 'pandas.core.frame.DataFrame'>\n",
      "RangeIndex: 240 entries, 0 to 239\n",
      "Data columns (total 7 columns):\n",
      " #   Column      Non-Null Count  Dtype  \n",
      "---  ------      --------------  -----  \n",
      " 0   id          240 non-null    int64  \n",
      " 1   temp        240 non-null    int64  \n",
      " 2   lumin       240 non-null    float64\n",
      " 3   radius      240 non-null    float64\n",
      " 4   abs_magn    240 non-null    float64\n",
      " 5   star_type   240 non-null    int64  \n",
      " 6   star_color  240 non-null    object \n",
      "dtypes: float64(3), int64(3), object(1)\n",
      "memory usage: 13.3+ KB\n"
     ]
    }
   ],
   "source": [
    "data.info()"
   ]
  },
  {
   "cell_type": "code",
   "execution_count": 10,
   "id": "127ce5a1",
   "metadata": {},
   "outputs": [],
   "source": [
    "data['star_type'] = data['star_type'].astype('object')"
   ]
  },
  {
   "cell_type": "markdown",
   "id": "0a0c54cd",
   "metadata": {},
   "source": [
    "**Промежуточный вывод:**\n",
    "\n",
    "На этапе загрузки и ознакомления с данными был произведён общий осмотр данных и информации о признаках."
   ]
  },
  {
   "cell_type": "markdown",
   "id": "491259a2",
   "metadata": {},
   "source": [
    "# Предобработка данных"
   ]
  },
  {
   "cell_type": "code",
   "execution_count": 11,
   "id": "af5fd5f0",
   "metadata": {},
   "outputs": [
    {
     "data": {
      "text/plain": [
       "id            0\n",
       "temp          0\n",
       "lumin         0\n",
       "radius        0\n",
       "abs_magn      0\n",
       "star_type     0\n",
       "star_color    0\n",
       "dtype: int64"
      ]
     },
     "execution_count": 11,
     "metadata": {},
     "output_type": "execute_result"
    }
   ],
   "source": [
    "data.isna().sum()"
   ]
  },
  {
   "cell_type": "code",
   "execution_count": 12,
   "id": "806aac89",
   "metadata": {},
   "outputs": [
    {
     "data": {
      "text/plain": [
       "np.int64(0)"
      ]
     },
     "execution_count": 12,
     "metadata": {},
     "output_type": "execute_result"
    }
   ],
   "source": [
    "data.duplicated().sum()"
   ]
  },
  {
   "cell_type": "markdown",
   "id": "e432ac3c",
   "metadata": {},
   "source": [
    "**Промежуточный вывод:**\n",
    "\n",
    "Предобработка данных показала чистоту данных: ни пропусков, ни дубликатов в датасете нет."
   ]
  },
  {
   "cell_type": "markdown",
   "id": "ebe7f348",
   "metadata": {},
   "source": [
    "# EDA"
   ]
  },
  {
   "cell_type": "code",
   "execution_count": 13,
   "id": "08670814",
   "metadata": {},
   "outputs": [
    {
     "data": {
      "text/html": [
       "<div>\n",
       "<style scoped>\n",
       "    .dataframe tbody tr th:only-of-type {\n",
       "        vertical-align: middle;\n",
       "    }\n",
       "\n",
       "    .dataframe tbody tr th {\n",
       "        vertical-align: top;\n",
       "    }\n",
       "\n",
       "    .dataframe thead th {\n",
       "        text-align: right;\n",
       "    }\n",
       "</style>\n",
       "<table border=\"1\" class=\"dataframe\">\n",
       "  <thead>\n",
       "    <tr style=\"text-align: right;\">\n",
       "      <th></th>\n",
       "      <th>id</th>\n",
       "      <th>temp</th>\n",
       "      <th>lumin</th>\n",
       "      <th>radius</th>\n",
       "      <th>abs_magn</th>\n",
       "    </tr>\n",
       "  </thead>\n",
       "  <tbody>\n",
       "    <tr>\n",
       "      <th>count</th>\n",
       "      <td>240.00</td>\n",
       "      <td>240.00</td>\n",
       "      <td>240.00</td>\n",
       "      <td>240.00</td>\n",
       "      <td>240.00</td>\n",
       "    </tr>\n",
       "    <tr>\n",
       "      <th>mean</th>\n",
       "      <td>119.50</td>\n",
       "      <td>10,497.46</td>\n",
       "      <td>107,188.36</td>\n",
       "      <td>237.16</td>\n",
       "      <td>4.38</td>\n",
       "    </tr>\n",
       "    <tr>\n",
       "      <th>std</th>\n",
       "      <td>69.43</td>\n",
       "      <td>9,552.43</td>\n",
       "      <td>179,432.24</td>\n",
       "      <td>517.16</td>\n",
       "      <td>10.53</td>\n",
       "    </tr>\n",
       "    <tr>\n",
       "      <th>min</th>\n",
       "      <td>0.00</td>\n",
       "      <td>1,939.00</td>\n",
       "      <td>0.00</td>\n",
       "      <td>0.01</td>\n",
       "      <td>-11.92</td>\n",
       "    </tr>\n",
       "    <tr>\n",
       "      <th>25%</th>\n",
       "      <td>59.75</td>\n",
       "      <td>3,344.25</td>\n",
       "      <td>0.00</td>\n",
       "      <td>0.10</td>\n",
       "      <td>-6.23</td>\n",
       "    </tr>\n",
       "    <tr>\n",
       "      <th>50%</th>\n",
       "      <td>119.50</td>\n",
       "      <td>5,776.00</td>\n",
       "      <td>0.07</td>\n",
       "      <td>0.76</td>\n",
       "      <td>8.31</td>\n",
       "    </tr>\n",
       "    <tr>\n",
       "      <th>75%</th>\n",
       "      <td>179.25</td>\n",
       "      <td>15,055.50</td>\n",
       "      <td>198,050.00</td>\n",
       "      <td>42.75</td>\n",
       "      <td>13.70</td>\n",
       "    </tr>\n",
       "    <tr>\n",
       "      <th>max</th>\n",
       "      <td>239.00</td>\n",
       "      <td>40,000.00</td>\n",
       "      <td>849,420.00</td>\n",
       "      <td>1,948.50</td>\n",
       "      <td>20.06</td>\n",
       "    </tr>\n",
       "  </tbody>\n",
       "</table>\n",
       "</div>"
      ],
      "text/plain": [
       "          id      temp      lumin   radius  abs_magn\n",
       "count 240.00    240.00     240.00   240.00    240.00\n",
       "mean  119.50 10,497.46 107,188.36   237.16      4.38\n",
       "std    69.43  9,552.43 179,432.24   517.16     10.53\n",
       "min     0.00  1,939.00       0.00     0.01    -11.92\n",
       "25%    59.75  3,344.25       0.00     0.10     -6.23\n",
       "50%   119.50  5,776.00       0.07     0.76      8.31\n",
       "75%   179.25 15,055.50 198,050.00    42.75     13.70\n",
       "max   239.00 40,000.00 849,420.00 1,948.50     20.06"
      ]
     },
     "execution_count": 13,
     "metadata": {},
     "output_type": "execute_result"
    }
   ],
   "source": [
    "data.describe()"
   ]
  },
  {
   "cell_type": "code",
   "execution_count": 14,
   "id": "e576aa1b",
   "metadata": {
    "scrolled": false
   },
   "outputs": [
    {
     "data": {
      "image/png": "[encoded data removed]",
      "text/plain": [
       "<Figure size 1200x800 with 2 Axes>"
      ]
     },
     "metadata": {},
     "output_type": "display_data"
    }
   ],
   "source": [
    "num_plots('lumin', 'Относительная светимость L/Lo')"
   ]
  },
  {
   "cell_type": "markdown",
   "id": "8cef9170",
   "metadata": {},
   "source": [
    "Большая часть звёзд в данных имеет сопоставимую с солнцем светимость.\n",
    "\n",
    "---"
   ]
  },
  {
   "cell_type": "code",
   "execution_count": 15,
   "id": "633bc97b",
   "metadata": {
    "scrolled": false
   },
   "outputs": [
    {
     "data": {
      "image/png": "[encoded data removed]",
      "text/plain": [
       "<Figure size 1200x800 with 2 Axes>"
      ]
     },
     "metadata": {},
     "output_type": "display_data"
    }
   ],
   "source": [
    "num_plots('radius', 'Относительный радиус R/Ro')"
   ]
  },
  {
   "cell_type": "markdown",
   "id": "00dce261",
   "metadata": {},
   "source": [
    "Большая часть звёзд в данных имеет сопоставимый с солнцем радиус.\n",
    "\n",
    "---"
   ]
  },
  {
   "cell_type": "code",
   "execution_count": 16,
   "id": "55c12aad",
   "metadata": {},
   "outputs": [
    {
     "data": {
      "image/png": "[encoded data removed]",
      "text/plain": [
       "<Figure size 1200x800 with 2 Axes>"
      ]
     },
     "metadata": {},
     "output_type": "display_data"
    }
   ],
   "source": [
    "num_plots('abs_magn', 'Абсолютная звёздная величина Mv', bins=15)"
   ]
  },
  {
   "cell_type": "markdown",
   "id": "aadb6e71",
   "metadata": {},
   "source": [
    "Данный признак имеет необычное распределение с \"седлом\" по середине значений данных.\n",
    "\n",
    "---"
   ]
  },
  {
   "cell_type": "code",
   "execution_count": 17,
   "id": "8c7fb520",
   "metadata": {},
   "outputs": [
    {
     "data": {
      "image/png": "[encoded data removed]",
      "text/plain": [
       "<Figure size 1200x800 with 2 Axes>"
      ]
     },
     "metadata": {},
     "output_type": "display_data"
    }
   ],
   "source": [
    "num_plots('temp', 'Абсолютная температура T(K)')"
   ]
  },
  {
   "cell_type": "markdown",
   "id": "d7abbf4a",
   "metadata": {},
   "source": [
    "Целевой признак показывает те же тендеции, что и остальные числовые признаки. \n",
    "\n",
    "---\n",
    "\n",
    "---\n",
    "\n",
    "---"
   ]
  },
  {
   "cell_type": "code",
   "execution_count": 18,
   "id": "fe0c3be7",
   "metadata": {
    "scrolled": true
   },
   "outputs": [
    {
     "data": {
      "text/html": [
       "<div>\n",
       "<style scoped>\n",
       "    .dataframe tbody tr th:only-of-type {\n",
       "        vertical-align: middle;\n",
       "    }\n",
       "\n",
       "    .dataframe tbody tr th {\n",
       "        vertical-align: top;\n",
       "    }\n",
       "\n",
       "    .dataframe thead th {\n",
       "        text-align: right;\n",
       "    }\n",
       "</style>\n",
       "<table border=\"1\" class=\"dataframe\">\n",
       "  <thead>\n",
       "    <tr style=\"text-align: right;\">\n",
       "      <th></th>\n",
       "      <th>star_type</th>\n",
       "      <th>star_color</th>\n",
       "    </tr>\n",
       "  </thead>\n",
       "  <tbody>\n",
       "    <tr>\n",
       "      <th>count</th>\n",
       "      <td>240</td>\n",
       "      <td>240</td>\n",
       "    </tr>\n",
       "    <tr>\n",
       "      <th>unique</th>\n",
       "      <td>6</td>\n",
       "      <td>19</td>\n",
       "    </tr>\n",
       "    <tr>\n",
       "      <th>top</th>\n",
       "      <td>0</td>\n",
       "      <td>Red</td>\n",
       "    </tr>\n",
       "    <tr>\n",
       "      <th>freq</th>\n",
       "      <td>40</td>\n",
       "      <td>112</td>\n",
       "    </tr>\n",
       "  </tbody>\n",
       "</table>\n",
       "</div>"
      ],
      "text/plain": [
       "        star_type star_color\n",
       "count         240        240\n",
       "unique          6         19\n",
       "top             0        Red\n",
       "freq           40        112"
      ]
     },
     "execution_count": 18,
     "metadata": {},
     "output_type": "execute_result"
    }
   ],
   "source": [
    "data.describe(include='object')"
   ]
  },
  {
   "cell_type": "code",
   "execution_count": 19,
   "id": "81af1874",
   "metadata": {},
   "outputs": [
    {
     "data": {
      "image/png": "[encoded data removed]",
      "text/plain": [
       "<Figure size 800x800 with 1 Axes>"
      ]
     },
     "metadata": {},
     "output_type": "display_data"
    }
   ],
   "source": [
    "col = 'star_type'\n",
    "title = 'Тип звезды'\n",
    "\n",
    "\n",
    "stt_labels = ['Коричневый карлик',\n",
    " 'Красный карлик',\n",
    " 'Белый карлик',\n",
    " 'Звёзды главной последовательности',\n",
    " 'Сверхгигант',\n",
    " 'Гипергигант']\n",
    "\n",
    "\n",
    "strt = data['star_type'].value_counts().reset_index()\n",
    "\n",
    "fig, ax = plt.subplots(figsize=(8, 8))\n",
    "\n",
    "ax.pie(strt['count'], labels=stt_labels, autopct='%1.1f%%')\n",
    "ax.set(title=title)\n",
    "\n",
    "clear_output()\n",
    "plt.show()"
   ]
  },
  {
   "cell_type": "markdown",
   "id": "7a7e7700",
   "metadata": {},
   "source": [
    "В данных по типам звёзд абсолютное равномерное распределение типов. \n",
    "\n",
    "---"
   ]
  },
  {
   "cell_type": "code",
   "execution_count": 20,
   "id": "9a99bbac",
   "metadata": {
    "scrolled": true
   },
   "outputs": [
    {
     "data": {
      "text/plain": [
       "['Blue',\n",
       " 'Blue ',\n",
       " 'Blue White',\n",
       " 'Blue white',\n",
       " 'Blue white ',\n",
       " 'Blue-White',\n",
       " 'Blue-white',\n",
       " 'Orange',\n",
       " 'Orange-Red',\n",
       " 'Pale yellow orange',\n",
       " 'Red',\n",
       " 'White',\n",
       " 'White-Yellow',\n",
       " 'Whitish',\n",
       " 'Yellowish',\n",
       " 'Yellowish White',\n",
       " 'white',\n",
       " 'yellow-white',\n",
       " 'yellowish']"
      ]
     },
     "execution_count": 20,
     "metadata": {},
     "output_type": "execute_result"
    }
   ],
   "source": [
    "sorted(data['star_color'].unique().tolist())\n",
    "# данные содержат неявные дубликаты по цвету звезды.\n",
    "data.loc[data['star_color'] == 'Blue ', 'star_color'] = 'Blue'\n",
    "data.loc[data['star_color'].isin(['Blue White', 'Blue white', 'Blue white ', 'Blue-White', 'Blue-white']), 'star_color'] = 'blue_white'\n",
    "data.loc[data['star_color'].isin(['White-Yellow', 'Yellowish White', 'yellow-white',]), 'star_color'] = 'yellow_white'\n",
    "data.loc[data['star_color'].isin(['White', 'Whitish', 'white']), 'star_color'] = 'white'\n",
    "data.loc[data['star_color'].isin(['yellowish', 'Yellowish', 'Pale yellow orange']), 'star_color'] = 'yellow'\n",
    "data.loc[data['star_color'].isin(['Orange-Red', 'Orange']), 'star_color'] = 'orange'"
   ]
  },
  {
   "cell_type": "code",
   "execution_count": 21,
   "id": "68f949fd",
   "metadata": {
    "scrolled": false
   },
   "outputs": [
    {
     "data": {
      "image/png": "[encoded data removed]",
      "text/plain": [
       "<Figure size 1200x500 with 1 Axes>"
      ]
     },
     "metadata": {},
     "output_type": "display_data"
    }
   ],
   "source": [
    "col = 'star_color'\n",
    "title = 'цвет звезды'\n",
    "\n",
    "strc = data['star_color'].value_counts().reset_index()\n",
    "\n",
    "fig, ax = plt.subplots(figsize=(12, 5))\n",
    "\n",
    "ax.bar(strc['star_color'], strc['count'])\n",
    "fig.autofmt_xdate()\n",
    "ax.set(title=title)\n",
    "\n",
    "clear_output()\n",
    "plt.show()"
   ]
  },
  {
   "cell_type": "markdown",
   "id": "b8029be5",
   "metadata": {},
   "source": [
    "Тип цвета звезды в данных имеет большое разнообразие и неравномерное количество записей по каждому цвету.\n",
    "\n",
    "---"
   ]
  },
  {
   "cell_type": "markdown",
   "id": "760de2ce",
   "metadata": {},
   "source": [
    "<div class=\"alert alert-success\">\n",
    "<b>👍 Успех:</b> Отличная обработка цвета, молодец! По Гарвардской классификации различают 7 цветов звезд\n",
    "</div>"
   ]
  },
  {
   "cell_type": "markdown",
   "id": "f7b6b22b",
   "metadata": {},
   "source": [
    "**Корреляционный анализ**"
   ]
  },
  {
   "cell_type": "code",
   "execution_count": 27,
   "id": "d623d0f6",
   "metadata": {},
   "outputs": [
    {
     "data": {
      "image/png": "[encoded data removed]",
      "text/plain": [
       "<Figure size 900x700 with 2 Axes>"
      ]
     },
     "metadata": {},
     "output_type": "display_data"
    }
   ],
   "source": [
    "_ = data.phik_matrix(interval_cols=['id', 'temp', 'lumin', 'radius', 'abs_magn'])\n",
    "\n",
    "fig, ax = plt.subplots(figsize=(9, 7))\n",
    "\n",
    "sns.heatmap(_, annot=True, ax=ax, square=True)\n",
    "\n",
    "clear_output()\n",
    "plt.show()"
   ]
  },
  {
   "cell_type": "markdown",
   "id": "be186150",
   "metadata": {},
   "source": [
    "**Промежуточный вывод:**\n",
    "\n",
    "Исследовательский анализ данных показал общую тенденцию и распределение числовых и категориальных признаков, а также целевого признака.\n",
    "\n",
    "Корреляционный анализ признаков показал отсутсвие сильных корреляций признаков с температоурой. Отмечена сильная прямая корреляция типа звезды с абсолютной физ. величиной звезды."
   ]
  },
  {
   "cell_type": "markdown",
   "id": "674922a6",
   "metadata": {},
   "source": [
    "# Построение базовой НС"
   ]
  },
  {
   "cell_type": "code",
   "execution_count": 28,
   "id": "f9d41315",
   "metadata": {},
   "outputs": [],
   "source": [
    "df = data.drop('id', axis=1)"
   ]
  },
  {
   "cell_type": "code",
   "execution_count": 29,
   "id": "7890294d",
   "metadata": {},
   "outputs": [],
   "source": [
    "x = df[['lumin', 'radius', 'abs_magn', 'star_type', 'star_color']]\n",
    "y = df['temp']\n",
    "\n",
    "x_train, x_test, y_train, y_test = train_test_split(x, y, stratify=x['star_type'], test_size=0.3, random_state=random_state)"
   ]
  },
  {
   "cell_type": "code",
   "execution_count": 30,
   "id": "cade0d76",
   "metadata": {},
   "outputs": [],
   "source": [
    "target = 'temp'\n",
    "cat_cols = ['star_type', 'star_color']\n",
    "num_cols = ['lumin', 'radius', 'abs_magn']\n",
    "\n",
    "data_preprocessor = ColumnTransformer(\n",
    "    [\n",
    "        ('cat', OneHotEncoder(categories=[x[cat_cols[0]].unique().tolist(), x[cat_cols[1]].unique().tolist()], sparse_output=False, drop='first'), cat_cols),\n",
    "        ('num', StandardScaler(), num_cols)\n",
    "    ],\n",
    "    remainder='passthrough'\n",
    ")"
   ]
  },
  {
   "cell_type": "code",
   "execution_count": 31,
   "id": "18e87e40",
   "metadata": {},
   "outputs": [],
   "source": [
    "x_train_prep = data_preprocessor.fit_transform(x_train)\n",
    "x_test_prep = data_preprocessor.transform(x_test)"
   ]
  },
  {
   "cell_type": "code",
   "execution_count": 32,
   "id": "3ab3bd04",
   "metadata": {},
   "outputs": [],
   "source": [
    "x_train_tensor = torch.from_numpy(x_train_prep).float()\n",
    "x_test_tensor = torch.from_numpy(x_test_prep).float()\n",
    "y_train_tensor = torch.from_numpy(np.array(y_train)).float()\n",
    "y_test_tensor = torch.from_numpy(np.array(y_test)).float()"
   ]
  },
  {
   "cell_type": "code",
   "execution_count": 33,
   "id": "8460c332",
   "metadata": {},
   "outputs": [],
   "source": [
    "class Net(nn.Module):\n",
    "    '''Класс полносвязной нейронной сети'''\n",
    "    \n",
    "    def __init__(self, arch_net):\n",
    "        super(Net, self).__init__()\n",
    "        \n",
    "        net_layers = []\n",
    "        \n",
    "        for i in range(len(arch_net)-1):\n",
    "            if type(arch_net[i]) == tuple:\n",
    "                net_layers.append(nn.Linear(arch_net[i][0], arch_net[i+1][0]))\n",
    "                if arch_net[i][1] != None:\n",
    "                    net_layers.append(arch_net[i][1])\n",
    "            else:\n",
    "                net_layers.append(arch_net[i])\n",
    "        \n",
    "        self.net = nn.Sequential(*net_layers)\n",
    "        \n",
    "        self.net.apply(self.init_weights)\n",
    "    \n",
    "    def forward(self, x):\n",
    "        return self.net.forward(x)\n",
    "    \n",
    "    def init_weights(self, layer):\n",
    "        '''Инициализация весов слоёв'''\n",
    "        if type(layer) == nn.Linear:\n",
    "            nn.init.normal_(layer.weight, mean=0.0, std=2.5)\n",
    "            nn.init.normal_(layer.bias, mean=0.0, std=2.5)"
   ]
  },
  {
   "cell_type": "code",
   "execution_count": 37,
   "id": "833fd5fe",
   "metadata": {},
   "outputs": [],
   "source": [
    "arch_net = [\n",
    "    (14, nn.ReLU()),\n",
    "    (10, nn.ReLU()),\n",
    "    (5, None),\n",
    "    (1, None)\n",
    "]"
   ]
  },
  {
   "cell_type": "code",
   "execution_count": 38,
   "id": "3e3e650f",
   "metadata": {},
   "outputs": [],
   "source": [
    "reg_net = Net(arch_net)\n",
    "# optimizer = torch.optim.Adam(reg_net.parameters(), lr=5.0e-3)\n",
    "optimizer = torch.optim.SGD(reg_net.parameters(), lr=2.0e-3)\n",
    "# optimizer = torch.optim.RMSprop(reg_net.parameters(), lr=5.0e-3)"
   ]
  },
  {
   "cell_type": "code",
   "execution_count": 39,
   "id": "7fef8a7b",
   "metadata": {},
   "outputs": [
    {
     "name": "stdout",
     "output_type": "stream",
     "text": [
      "epochs: 0    rmse: 13598.17578125\n",
      "epochs: 100    rmse: 13513.23828125\n",
      "epochs: 200    rmse: 13045.9052734375\n",
      "epochs: 300    rmse: 5384.81103515625\n",
      "epochs: 400    rmse: 4137.6796875\n",
      "epochs: 500    rmse: 4066.4970703125\n",
      "epochs: 600    rmse: 3947.619140625\n",
      "epochs: 700    rmse: 3895.64111328125\n",
      "epochs: 800    rmse: 3885.11767578125\n",
      "epochs: 900    rmse: 3879.196533203125\n",
      "epochs: 1000    rmse: 3876.15087890625\n",
      "epochs: 1100    rmse: 3860.614990234375\n"
     ]
    }
   ],
   "source": [
    "num_epochs = 1101\n",
    "\n",
    "rmse_values = net_improver(num_epochs)"
   ]
  },
  {
   "cell_type": "code",
   "execution_count": 40,
   "id": "e690b20d",
   "metadata": {
    "scrolled": true
   },
   "outputs": [],
   "source": [
    "preds = reg_net.forward(x_test_tensor).flatten().detach().numpy()\n",
    "rmse_baseline = root_mean_squared_error(y_test, preds)"
   ]
  },
  {
   "cell_type": "code",
   "execution_count": 43,
   "id": "57758fb9",
   "metadata": {},
   "outputs": [
    {
     "data": {
      "text/plain": [
       "3860.614990234375"
      ]
     },
     "execution_count": 43,
     "metadata": {},
     "output_type": "execute_result"
    }
   ],
   "source": [
    "rmse_baseline"
   ]
  },
  {
   "cell_type": "code",
   "execution_count": 93,
   "id": "c97ee1f0",
   "metadata": {
    "scrolled": false
   },
   "outputs": [
    {
     "data": {
      "image/png": "[encoded data removed]",
      "text/plain": [
       "<Figure size 1500x800 with 1 Axes>"
      ]
     },
     "metadata": {},
     "output_type": "display_data"
    }
   ],
   "source": [
    "_ = pd.DataFrame(\n",
    "            {\n",
    "                'id': range(1, 73),\n",
    "                'y_true': y_test,\n",
    "                'y_pred': preds,\n",
    "            }\n",
    "            )\n",
    "\n",
    "fig, ax = plt.subplots(figsize=(15, 8))\n",
    "\n",
    "pl = ax.bar(_['id'], _['y_true'], width=0.7, label='true')\n",
    "pl = ax.bar(_['id'], _['y_pred'], width=0.3, label='prediction')\n",
    "# pl = ax.scatter(_['id'], _['y_true'], label='ture', s=100, alpha=0.7)\n",
    "# pl = ax.scatter(_['id'], _['y_pred'], label='predcition', s=100, alpha=0.7)\n",
    "pl = ax.set(xlabel='id', ylabel='temperature kelvin', title='Baseline prediction vs real values')\n",
    "pl = ax.set_xticks(_['id'], _['id'], rotation='vertical')\n",
    "# pl = ax.legend(ncols=2)\n",
    "# pl = ax.grid(axis='x')\n",
    "plt.axhline(15000, linestyle='--', label='0.75 quantile')\n",
    "plt.legend(ncols=3)\n",
    "\n",
    "\n",
    "clear_output()\n",
    "plt.show()"
   ]
  },
  {
   "cell_type": "markdown",
   "id": "b1b960c4",
   "metadata": {},
   "source": [
    "По графику сравнения предсказаний видно, что нейросеть лучше предсказывает значения, кот. не выбиваются из общей массы и не являются выбросами. Хоть данные для обучения и теста были стратифицированны, но это не помогло. Нейросеть плохо справляется с предсказанием больших температур у звёзд. Количество данных для обучения достаточно мало.\n",
    "\n",
    "---"
   ]
  },
  {
   "cell_type": "markdown",
   "id": "824111b0",
   "metadata": {},
   "source": [
    "**Промежуточный вывод:**\n",
    "\n",
    "Построение нейронной сети прошло успешно. Обучение показало достаточно неплохой результат на метрике rmse. "
   ]
  },
  {
   "cell_type": "markdown",
   "id": "f7797d7c",
   "metadata": {},
   "source": [
    "# Улучшение НС"
   ]
  },
  {
   "cell_type": "code",
   "execution_count": 94,
   "id": "7a727e19",
   "metadata": {},
   "outputs": [],
   "source": [
    "class MyModule(nn.Module):\n",
    "    '''Клас Baseline NN модели для улчушения и кастомизации'''\n",
    "    \n",
    "    def __init__(self, mode='defalut'):\n",
    "        super(MyModule, self).__init__()\n",
    "        if mode == 'defalut':\n",
    "            self.net = nn.Sequential(*[\n",
    "                nn.Linear(in_features=14, out_features=10, bias=True),\n",
    "                nn.ReLU(),\n",
    "                nn.Linear(in_features=10, out_features=5, bias=True),\n",
    "                nn.ReLU(),\n",
    "                nn.Linear(in_features=5, out_features=1, bias=True),\n",
    "                ])\n",
    "        elif mode == 'batch_normalization':\n",
    "            self.net = nn.Sequential(*[\n",
    "                nn.Linear(in_features=14, out_features=10, bias=True),\n",
    "                nn.ReLU(),\n",
    "                nn.BatchNorm1d(10),\n",
    "                nn.Linear(in_features=10, out_features=5, bias=True),\n",
    "                nn.ReLU(),\n",
    "                nn.BatchNorm1d(5),\n",
    "                nn.Linear(in_features=5, out_features=1, bias=True),\n",
    "                ])\n",
    "        elif mode == 'dropout':\n",
    "            self.net = nn.Sequential(*[\n",
    "                nn.Linear(in_features=14, out_features=10, bias=True),\n",
    "                nn.ReLU(),\n",
    "                nn.Dropout(0.6),\n",
    "                nn.Linear(in_features=10, out_features=5, bias=True),\n",
    "                nn.ReLU(),\n",
    "                nn.Dropout(0.6),\n",
    "                nn.Linear(in_features=5, out_features=1, bias=True),\n",
    "                ])\n",
    "        else:\n",
    "            raise ValueError(\"incorrect mode parameter. choose: ['defalut', 'batch_normalization', 'dropout']\")\n",
    "        \n",
    "        self.net.apply(self.init_weights)\n",
    "    \n",
    "    def forward(self, x):\n",
    "        return self.net.forward(x)\n",
    "    \n",
    "    def init_weights(self, layer):\n",
    "        '''Инициализация весов слоёв'''\n",
    "        if type(layer) == nn.Linear:\n",
    "            nn.init.normal_(layer.weight, mean=0.0, std=2.5)\n",
    "            nn.init.normal_(layer.bias, mean=0.0, std=2.5)\n",
    "        "
   ]
  },
  {
   "cell_type": "code",
   "execution_count": 95,
   "id": "7dd9dcb5",
   "metadata": {},
   "outputs": [
    {
     "name": "stdout",
     "output_type": "stream",
     "text": [
      "defalut\n",
      "epochs: 0    rmse: 13646.765625\n",
      "epochs: 100    rmse: 13558.59375\n",
      "epochs: 200    rmse: 13538.9990234375\n",
      "epochs: 300    rmse: 13524.9833984375\n",
      "epochs: 400    rmse: 13496.681640625\n",
      "epochs: 500    rmse: 13354.5849609375\n",
      "epochs: 600    rmse: 11768.35546875\n",
      "epochs: 700    rmse: 5382.80078125\n",
      "epochs: 800    rmse: 4109.25341796875\n",
      "epochs: 900    rmse: 4026.20654296875\n",
      "epochs: 1000    rmse: 3895.724853515625\n",
      "epochs: 1100    rmse: 3814.48974609375\n",
      "__________________________________________________\n",
      "batch_normalization\n",
      "epochs: 0    rmse: 13566.556640625\n",
      "epochs: 100    rmse: 13533.5771484375\n",
      "epochs: 200    rmse: 13528.59375\n",
      "epochs: 300    rmse: 13522.7275390625\n",
      "epochs: 400    rmse: 13515.763671875\n",
      "epochs: 500    rmse: 13507.3408203125\n",
      "epochs: 600    rmse: 13496.923828125\n",
      "epochs: 700    rmse: 13483.9716796875\n",
      "epochs: 800    rmse: 13467.623046875\n",
      "epochs: 900    rmse: 13446.7724609375\n",
      "epochs: 1000    rmse: 13420.1025390625\n",
      "epochs: 1100    rmse: 13386.072265625\n",
      "__________________________________________________\n",
      "dropout\n",
      "epochs: 0    rmse: 13716.734375\n",
      "epochs: 100    rmse: 11231.5625\n",
      "epochs: 200    rmse: 9114.4033203125\n",
      "epochs: 300    rmse: 8490.41796875\n",
      "epochs: 400    rmse: 7657.57080078125\n",
      "epochs: 500    rmse: 7299.57861328125\n",
      "epochs: 600    rmse: 7456.9091796875\n",
      "epochs: 700    rmse: 6891.12060546875\n",
      "epochs: 800    rmse: 6706.173828125\n",
      "epochs: 900    rmse: 6573.95166015625\n",
      "epochs: 1000    rmse: 6866.83251953125\n",
      "epochs: 1100    rmse: 6704.5380859375\n",
      "__________________________________________________\n",
      "{'defalut': tensor(3814.4897), 'batch_normalization': tensor(13386.0723), 'dropout': tensor(6573.9517)}\n"
     ]
    }
   ],
   "source": [
    "best_rmse = {mode:None for mode in['defalut', 'batch_normalization', 'dropout']}\n",
    "net_models = {mode:None for mode in['defalut', 'batch_normalization', 'dropout']}\n",
    "for mode in ['defalut', 'batch_normalization', 'dropout']:\n",
    "    print(mode)\n",
    "    reg_net = MyModule(mode=mode)\n",
    "#     optimizer = torch.optim.Adam(reg_net.parameters(), lr=5.0e-3)\n",
    "    optimizer = torch.optim.SGD(reg_net.parameters(), lr=1.5e-3)\n",
    "#     optimizer = torch.optim.RMSprop(reg_net.parameters(), lr=5.0e-3)\n",
    "    num_epochs = 1101\n",
    "    rmse_values = net_improver(num_epochs)\n",
    "    best_rmse[mode] = min(rmse_values)\n",
    "    net_models[mode] = reg_net\n",
    "    print('_'*50)\n",
    "\n",
    "print(best_rmse)"
   ]
  },
  {
   "cell_type": "code",
   "execution_count": 96,
   "id": "cb4908e8",
   "metadata": {},
   "outputs": [
    {
     "name": "stdout",
     "output_type": "stream",
     "text": [
      "RMSE на тестовых данных default НС: 3814\n",
      "RMSE на тестовых данных batch_normalization НС: 13386\n",
      "RMSE на тестовых данных dropout НС: 6705\n"
     ]
    }
   ],
   "source": [
    "preds_def = net_models['defalut'].forward(x_test_tensor).flatten().detach().numpy()\n",
    "print(f'RMSE на тестовых данных default НС: {round(root_mean_squared_error(y_test, preds_def))}')\n",
    "\n",
    "preds_batch = net_models['batch_normalization'].forward(x_test_tensor).flatten().detach().numpy()\n",
    "print(f'RMSE на тестовых данных batch_normalization НС: {round(root_mean_squared_error(y_test, preds_batch))}')\n",
    "\n",
    "preds_dropout = net_models['dropout'].forward(x_test_tensor).flatten().detach().numpy()\n",
    "print(f'RMSE на тестовых данных dropout НС: {round(root_mean_squared_error(y_test, preds_dropout))}')"
   ]
  },
  {
   "cell_type": "code",
   "execution_count": 110,
   "id": "0ba6d549",
   "metadata": {},
   "outputs": [
    {
     "data": {
      "text/plain": [
       "72"
      ]
     },
     "execution_count": 110,
     "metadata": {},
     "output_type": "execute_result"
    }
   ],
   "source": [
    "len(range(1, 72*4, 4))"
   ]
  },
  {
   "cell_type": "code",
   "execution_count": 153,
   "id": "16ba8af8",
   "metadata": {},
   "outputs": [
    {
     "data": {
      "image/png": "[encoded data removed]",
      "text/plain": [
       "<Figure size 1500x800 with 1 Axes>"
      ]
     },
     "metadata": {},
     "output_type": "display_data"
    }
   ],
   "source": [
    "_ = pd.DataFrame(\n",
    "            {\n",
    "                'id': range(1, 73),\n",
    "                'y_true': y_test,\n",
    "                'y_pred_def': preds_def,\n",
    "                'y_pred_batch': preds_batch,\n",
    "                'y_pred_dropout': preds_dropout,\n",
    "            }\n",
    "            )\n",
    "\n",
    "fig, ax = plt.subplots(figsize=(15, 8), facecolor=\"oldlace\")\n",
    "\n",
    "x = np.array(range(1, 72*10, 10))\n",
    "\n",
    "pl = ax.bar(x, _['y_true'], width=9, label='true', color='dimgray')\n",
    "pl = ax.bar(x-2, _['y_pred_def'], width=2, label='predcition default model', color='lime')\n",
    "pl = ax.bar(x, _['y_pred_batch'], width=2, label='predcition batch normalization model', color='red')\n",
    "pl = ax.bar(x+2, _['y_pred_dropout'], width=2, label='predcition dropout model', color='yellow')\n",
    "# pl = ax.scatter(_['id'], _['y_true'], label='ture', s=100, alpha=1.0)\n",
    "# pl = ax.scatter(_['id'], _['y_pred_def'], label='predcition default model', s=100, alpha=0.5)\n",
    "# pl = ax.scatter(_['id'], _['y_pred_batch'], label='predcition batch normalization model', s=90, alpha=0.5)\n",
    "# pl = ax.scatter(_['id'], _['y_pred_dropout'], label='predcition dropout model', s=90, alpha=0.5)\n",
    "pl = ax.set(xlabel='id', ylabel='temperature kelvin', title='NNs predictions vs real values', facecolor=\"oldlace\")\n",
    "pl = ax.set_xticks(x, _['id'], rotation='vertical')\n",
    "# pl = ax.legend(ncols=2)\n",
    "# pl = ax.grid(axis='x')\n",
    "\n",
    "plt.axhline(15000, linestyle='--', label='0.75 quantile')\n",
    "plt.legend(ncols=5)\n",
    "\n",
    "clear_output()\n",
    "plt.show()"
   ]
  },
  {
   "cell_type": "markdown",
   "id": "a296fbe6",
   "metadata": {},
   "source": [
    "На графике видно, что базовая модель справляется лучше всего в сравнении с нейросетями, у кот. были добавлены слои batch_normalization и dropout. Dropout показал более менее приемлемый результат, а вот BathcNormalization вообще не смогла обучиться.\n",
    "\n",
    "---"
   ]
  },
  {
   "cell_type": "markdown",
   "id": "bde23745",
   "metadata": {},
   "source": [
    "**Промежуточный вывод:**\n",
    "\n",
    "Работы по улучшению НС показали, что baseline (базовая) модель оказалась лучшей по метрике rmse на тестовых данных. BatchNoramlization показал себя хуже всего, а dropout имел немного больший успех. Базовая моедль обучилась быстрее всего до целевого значения метрики.\n",
    "\n",
    "\n",
    "Единственная ахритектура НС, которая, обучившись, показала целевую метрику ниже 4500, т.е. выполнила поставленную задачу, - это базовая модель без приминения улучшений. "
   ]
  },
  {
   "cell_type": "markdown",
   "id": "8d37d6aa",
   "metadata": {},
   "source": [
    "# Выводы"
   ]
  },
  {
   "cell_type": "markdown",
   "id": "1552b87b",
   "metadata": {},
   "source": [
    "**Итоги проекта:**\n",
    "\n",
    "\n",
    "Проект выполнен успешно. Каждый этап давал свой результат. Предобработка данных показала, что размер данных небольшой, и что данные хорошо очищены от дубликатов и пропусков. Исследовательски анализ помог лучше изучить данные и подготовиться к их подготовке для обучения моделей. Обучение базовой модели создало порого входа и опорную точку, кот. в дальнейшем и сыграла решающую роль. Улучшение базовой НС не оправдало себя. Как batch_normalization так  и dropout не смогли улчушить метрики базовой модели при обучении. Базовая моедль обучилась быстрее всего до целевого значения метрики.\n",
    "\n",
    "Отсутствие положительных результатов при обучении НС BatchNormalization и Dropout связано с тем, что базовая модель ни была не недообученной, не переобученной. А также данные не имели большого размера. Поэтому приминение подобных техник в НС в данном случае не целесообразно."
   ]
  }
 ],
 "metadata": {
  "ExecuteTimeLog": [
   {
    "duration": 7225,
    "start_time": "2025-03-07T18:01:52.296Z"
   },
   {
    "duration": 58,
    "start_time": "2025-03-07T18:01:59.523Z"
   },
   {
    "duration": 5,
    "start_time": "2025-03-07T18:01:59.583Z"
   },
   {
    "duration": 10,
    "start_time": "2025-03-07T18:01:59.589Z"
   },
   {
    "duration": 14,
    "start_time": "2025-03-07T18:01:59.601Z"
   },
   {
    "duration": 91,
    "start_time": "2025-03-07T18:01:59.672Z"
   },
   {
    "duration": 8,
    "start_time": "2025-03-07T18:01:59.765Z"
   },
   {
    "duration": 14,
    "start_time": "2025-03-07T18:01:59.775Z"
   },
   {
    "duration": 10,
    "start_time": "2025-03-07T18:01:59.791Z"
   },
   {
    "duration": 69,
    "start_time": "2025-03-07T18:01:59.803Z"
   },
   {
    "duration": 6,
    "start_time": "2025-03-07T18:01:59.874Z"
   },
   {
    "duration": 7,
    "start_time": "2025-03-07T18:01:59.882Z"
   },
   {
    "duration": 20,
    "start_time": "2025-03-07T18:01:59.891Z"
   },
   {
    "duration": 629,
    "start_time": "2025-03-07T18:01:59.974Z"
   },
   {
    "duration": 708,
    "start_time": "2025-03-07T18:02:00.604Z"
   },
   {
    "duration": 967,
    "start_time": "2025-03-07T18:02:01.313Z"
   },
   {
    "duration": 632,
    "start_time": "2025-03-07T18:02:02.282Z"
   },
   {
    "duration": 11,
    "start_time": "2025-03-07T18:02:02.972Z"
   },
   {
    "duration": 402,
    "start_time": "2025-03-07T18:02:02.985Z"
   },
   {
    "duration": 16,
    "start_time": "2025-03-07T18:02:03.389Z"
   },
   {
    "duration": 504,
    "start_time": "2025-03-07T18:02:03.407Z"
   },
   {
    "duration": 4,
    "start_time": "2025-03-07T18:02:03.913Z"
   },
   {
    "duration": 8,
    "start_time": "2025-03-07T18:02:03.973Z"
   },
   {
    "duration": 17,
    "start_time": "2025-03-07T18:02:03.983Z"
   },
   {
    "duration": 70,
    "start_time": "2025-03-07T18:02:04.002Z"
   },
   {
    "duration": 36,
    "start_time": "2025-03-07T18:02:04.074Z"
   },
   {
    "duration": 7,
    "start_time": "2025-03-07T18:02:04.111Z"
   },
   {
    "duration": 6,
    "start_time": "2025-03-07T18:02:04.120Z"
   },
   {
    "duration": 2841,
    "start_time": "2025-03-07T18:02:04.173Z"
   },
   {
    "duration": 125760,
    "start_time": "2025-03-07T18:02:07.017Z"
   },
   {
    "duration": 6,
    "start_time": "2025-03-07T18:04:12.779Z"
   },
   {
    "duration": 6,
    "start_time": "2025-03-07T18:04:12.786Z"
   },
   {
    "duration": 1180,
    "start_time": "2025-03-07T18:04:12.794Z"
   },
   {
    "duration": 10,
    "start_time": "2025-03-07T18:04:13.977Z"
   },
   {
    "duration": 467304,
    "start_time": "2025-03-07T18:04:13.989Z"
   },
   {
    "duration": 12,
    "start_time": "2025-03-07T18:12:01.371Z"
   },
   {
    "duration": 1328,
    "start_time": "2025-03-07T18:12:01.385Z"
   },
   {
    "duration": 7,
    "start_time": "2025-03-07T18:29:00.751Z"
   },
   {
    "duration": 7251,
    "start_time": "2025-03-07T18:59:24.221Z"
   },
   {
    "duration": 16,
    "start_time": "2025-03-07T18:59:31.475Z"
   },
   {
    "duration": 10,
    "start_time": "2025-03-07T18:59:31.492Z"
   },
   {
    "duration": 10,
    "start_time": "2025-03-07T18:59:31.506Z"
   },
   {
    "duration": 7,
    "start_time": "2025-03-07T18:59:31.573Z"
   },
   {
    "duration": 91,
    "start_time": "2025-03-07T18:59:31.582Z"
   },
   {
    "duration": 7,
    "start_time": "2025-03-07T18:59:31.675Z"
   },
   {
    "duration": 95,
    "start_time": "2025-03-07T18:59:31.685Z"
   },
   {
    "duration": 16,
    "start_time": "2025-03-07T18:59:31.783Z"
   },
   {
    "duration": 72,
    "start_time": "2025-03-07T18:59:31.803Z"
   },
   {
    "duration": 13,
    "start_time": "2025-03-07T18:59:31.877Z"
   },
   {
    "duration": 11,
    "start_time": "2025-03-07T18:59:31.892Z"
   },
   {
    "duration": 91,
    "start_time": "2025-03-07T18:59:31.905Z"
   },
   {
    "duration": 775,
    "start_time": "2025-03-07T18:59:31.999Z"
   },
   {
    "duration": 701,
    "start_time": "2025-03-07T18:59:32.776Z"
   },
   {
    "duration": 929,
    "start_time": "2025-03-07T18:59:33.479Z"
   },
   {
    "duration": 689,
    "start_time": "2025-03-07T18:59:34.410Z"
   },
   {
    "duration": 70,
    "start_time": "2025-03-07T18:59:35.101Z"
   },
   {
    "duration": 332,
    "start_time": "2025-03-07T18:59:35.173Z"
   },
   {
    "duration": 72,
    "start_time": "2025-03-07T18:59:35.508Z"
   },
   {
    "duration": 430,
    "start_time": "2025-03-07T18:59:35.582Z"
   },
   {
    "duration": 58,
    "start_time": "2025-03-07T18:59:36.014Z"
   },
   {
    "duration": 16,
    "start_time": "2025-03-07T18:59:36.075Z"
   },
   {
    "duration": 80,
    "start_time": "2025-03-07T18:59:36.093Z"
   },
   {
    "duration": 117,
    "start_time": "2025-03-07T18:59:36.176Z"
   },
   {
    "duration": 7,
    "start_time": "2025-03-07T18:59:36.295Z"
   },
   {
    "duration": 75,
    "start_time": "2025-03-07T18:59:36.305Z"
   },
   {
    "duration": 85,
    "start_time": "2025-03-07T18:59:36.387Z"
   },
   {
    "duration": 2540,
    "start_time": "2025-03-07T18:59:36.475Z"
   },
   {
    "duration": 7355,
    "start_time": "2025-03-07T18:59:39.018Z"
   },
   {
    "duration": 7,
    "start_time": "2025-03-07T18:59:46.375Z"
   },
   {
    "duration": 6,
    "start_time": "2025-03-07T18:59:46.385Z"
   },
   {
    "duration": 1206,
    "start_time": "2025-03-07T18:59:46.393Z"
   },
   {
    "duration": 10,
    "start_time": "2025-03-07T18:59:47.601Z"
   },
   {
    "duration": 488011,
    "start_time": "2025-03-07T18:59:47.673Z"
   },
   {
    "duration": 88,
    "start_time": "2025-03-07T19:07:55.687Z"
   },
   {
    "duration": 1234,
    "start_time": "2025-03-07T19:07:55.777Z"
   },
   {
    "duration": 7115,
    "start_time": "2025-03-07T19:12:52.511Z"
   },
   {
    "duration": 56,
    "start_time": "2025-03-07T19:12:59.628Z"
   },
   {
    "duration": 5,
    "start_time": "2025-03-07T19:12:59.686Z"
   },
   {
    "duration": 6,
    "start_time": "2025-03-07T19:12:59.693Z"
   },
   {
    "duration": 70,
    "start_time": "2025-03-07T19:12:59.702Z"
   },
   {
    "duration": 49,
    "start_time": "2025-03-07T19:12:59.775Z"
   },
   {
    "duration": 5,
    "start_time": "2025-03-07T19:12:59.826Z"
   },
   {
    "duration": 16,
    "start_time": "2025-03-07T19:12:59.874Z"
   },
   {
    "duration": 13,
    "start_time": "2025-03-07T19:12:59.892Z"
   },
   {
    "duration": 65,
    "start_time": "2025-03-07T19:12:59.909Z"
   },
   {
    "duration": 14,
    "start_time": "2025-03-07T19:12:59.975Z"
   },
   {
    "duration": 8,
    "start_time": "2025-03-07T19:12:59.992Z"
   },
   {
    "duration": 95,
    "start_time": "2025-03-07T19:13:00.002Z"
   },
   {
    "duration": 703,
    "start_time": "2025-03-07T19:13:00.099Z"
   },
   {
    "duration": 791,
    "start_time": "2025-03-07T19:13:00.804Z"
   },
   {
    "duration": 889,
    "start_time": "2025-03-07T19:13:01.596Z"
   },
   {
    "duration": 708,
    "start_time": "2025-03-07T19:13:02.487Z"
   },
   {
    "duration": 11,
    "start_time": "2025-03-07T19:13:03.196Z"
   },
   {
    "duration": 391,
    "start_time": "2025-03-07T19:13:03.209Z"
   },
   {
    "duration": 11,
    "start_time": "2025-03-07T19:13:03.602Z"
   },
   {
    "duration": 411,
    "start_time": "2025-03-07T19:13:03.671Z"
   },
   {
    "duration": 5,
    "start_time": "2025-03-07T19:13:04.086Z"
   },
   {
    "duration": 14,
    "start_time": "2025-03-07T19:13:04.094Z"
   },
   {
    "duration": 63,
    "start_time": "2025-03-07T19:13:04.111Z"
   },
   {
    "duration": 95,
    "start_time": "2025-03-07T19:13:04.177Z"
   },
   {
    "duration": 6,
    "start_time": "2025-03-07T19:13:04.276Z"
   },
   {
    "duration": 27,
    "start_time": "2025-03-07T19:13:04.285Z"
   },
   {
    "duration": 53,
    "start_time": "2025-03-07T19:13:04.319Z"
   },
   {
    "duration": 2942,
    "start_time": "2025-03-07T19:13:04.374Z"
   },
   {
    "duration": 6468,
    "start_time": "2025-03-07T19:13:07.317Z"
   },
   {
    "duration": 86,
    "start_time": "2025-03-07T19:13:13.787Z"
   },
   {
    "duration": 5,
    "start_time": "2025-03-07T19:13:13.874Z"
   },
   {
    "duration": 1134,
    "start_time": "2025-03-07T19:13:13.881Z"
   },
   {
    "duration": 9,
    "start_time": "2025-03-07T19:13:15.072Z"
   },
   {
    "duration": 459801,
    "start_time": "2025-03-07T19:13:15.083Z"
   },
   {
    "duration": 86,
    "start_time": "2025-03-07T19:20:54.886Z"
   },
   {
    "duration": 1214,
    "start_time": "2025-03-07T19:20:54.974Z"
   },
   {
    "duration": 5038,
    "start_time": "2025-03-07T22:52:48.472Z"
   },
   {
    "duration": 14,
    "start_time": "2025-03-07T22:52:53.512Z"
   },
   {
    "duration": 5,
    "start_time": "2025-03-07T22:52:53.528Z"
   },
   {
    "duration": 7,
    "start_time": "2025-03-07T22:52:53.535Z"
   },
   {
    "duration": 17,
    "start_time": "2025-03-07T22:52:53.544Z"
   },
   {
    "duration": 50,
    "start_time": "2025-03-07T22:52:53.563Z"
   },
   {
    "duration": 3,
    "start_time": "2025-03-07T22:52:53.615Z"
   },
   {
    "duration": 12,
    "start_time": "2025-03-07T22:52:53.620Z"
   },
   {
    "duration": 17,
    "start_time": "2025-03-07T22:52:53.634Z"
   },
   {
    "duration": 18,
    "start_time": "2025-03-07T22:52:53.654Z"
   },
   {
    "duration": 20,
    "start_time": "2025-03-07T22:52:53.674Z"
   },
   {
    "duration": 18,
    "start_time": "2025-03-07T22:52:53.696Z"
   },
   {
    "duration": 21,
    "start_time": "2025-03-07T22:52:53.716Z"
   },
   {
    "duration": 570,
    "start_time": "2025-03-07T22:52:53.739Z"
   },
   {
    "duration": 498,
    "start_time": "2025-03-07T22:52:54.311Z"
   },
   {
    "duration": 840,
    "start_time": "2025-03-07T22:52:54.810Z"
   },
   {
    "duration": 453,
    "start_time": "2025-03-07T22:52:55.651Z"
   },
   {
    "duration": 11,
    "start_time": "2025-03-07T22:52:56.106Z"
   },
   {
    "duration": 272,
    "start_time": "2025-03-07T22:52:56.119Z"
   },
   {
    "duration": 11,
    "start_time": "2025-03-07T22:52:56.393Z"
   },
   {
    "duration": 247,
    "start_time": "2025-03-07T22:52:56.406Z"
   },
   {
    "duration": 5,
    "start_time": "2025-03-07T22:52:56.671Z"
   },
   {
    "duration": 13,
    "start_time": "2025-03-07T22:52:56.678Z"
   },
   {
    "duration": 5,
    "start_time": "2025-03-07T22:52:56.692Z"
   },
   {
    "duration": 19,
    "start_time": "2025-03-07T22:52:56.698Z"
   },
   {
    "duration": 5,
    "start_time": "2025-03-07T22:52:56.718Z"
   },
   {
    "duration": 7,
    "start_time": "2025-03-07T22:52:56.724Z"
   },
   {
    "duration": 3,
    "start_time": "2025-03-07T22:52:56.734Z"
   },
   {
    "duration": 1347,
    "start_time": "2025-03-07T22:52:56.739Z"
   },
   {
    "duration": 7806,
    "start_time": "2025-03-07T22:52:58.088Z"
   },
   {
    "duration": 80,
    "start_time": "2025-03-07T22:53:05.895Z"
   },
   {
    "duration": 20,
    "start_time": "2025-03-07T22:53:05.977Z"
   },
   {
    "duration": 616,
    "start_time": "2025-03-07T22:53:05.999Z"
   },
   {
    "duration": 8,
    "start_time": "2025-03-07T22:53:06.617Z"
   },
   {
    "duration": 366755,
    "start_time": "2025-03-07T22:53:06.627Z"
   },
   {
    "duration": 10,
    "start_time": "2025-03-07T22:59:13.384Z"
   },
   {
    "duration": 704,
    "start_time": "2025-03-07T22:59:13.396Z"
   },
   {
    "duration": 21939104,
    "start_time": "2025-03-07T22:59:14.102Z"
   },
   {
    "duration": 35,
    "start_time": "2025-03-08T05:04:53.271Z"
   },
   {
    "duration": 0,
    "start_time": "2025-03-08T05:04:53.319Z"
   },
   {
    "duration": 0,
    "start_time": "2025-03-08T05:04:53.320Z"
   },
   {
    "duration": 0,
    "start_time": "2025-03-08T05:04:53.321Z"
   },
   {
    "duration": 15,
    "start_time": "2025-03-08T05:07:39.786Z"
   },
   {
    "duration": 16,
    "start_time": "2025-03-08T05:08:08.573Z"
   },
   {
    "duration": 9,
    "start_time": "2025-03-08T05:08:24.145Z"
   },
   {
    "duration": 5,
    "start_time": "2025-03-08T05:09:09.719Z"
   },
   {
    "duration": 4,
    "start_time": "2025-03-08T05:10:09.499Z"
   },
   {
    "duration": 84,
    "start_time": "2025-03-08T05:19:48.503Z"
   },
   {
    "duration": 19,
    "start_time": "2025-03-08T05:20:40.557Z"
   },
   {
    "duration": 20,
    "start_time": "2025-03-08T05:24:11.889Z"
   },
   {
    "duration": 21,
    "start_time": "2025-03-08T05:24:28.249Z"
   },
   {
    "duration": 21,
    "start_time": "2025-03-08T05:25:58.546Z"
   },
   {
    "duration": 22,
    "start_time": "2025-03-08T05:26:04.763Z"
   },
   {
    "duration": 24,
    "start_time": "2025-03-08T05:26:10.360Z"
   },
   {
    "duration": 23,
    "start_time": "2025-03-08T05:26:29.536Z"
   },
   {
    "duration": 20,
    "start_time": "2025-03-08T05:26:52.243Z"
   },
   {
    "duration": 21,
    "start_time": "2025-03-08T05:27:07.784Z"
   },
   {
    "duration": 38,
    "start_time": "2025-03-08T05:27:17.923Z"
   },
   {
    "duration": 98,
    "start_time": "2025-03-08T05:27:57.981Z"
   },
   {
    "duration": 232,
    "start_time": "2025-03-08T05:27:58.788Z"
   },
   {
    "duration": 78,
    "start_time": "2025-03-08T05:28:25.651Z"
   },
   {
    "duration": 515,
    "start_time": "2025-03-08T05:28:37.079Z"
   }
  ],
  "kernelspec": {
   "display_name": "Python 3 (ipykernel)",
   "language": "python",
   "name": "python3"
  },
  "language_info": {
   "codemirror_mode": {
    "name": "ipython",
    "version": 3
   },
   "file_extension": ".py",
   "mimetype": "text/x-python",
   "name": "python",
   "nbconvert_exporter": "python",
   "pygments_lexer": "ipython3",
   "version": "3.11.11"
  },
  "toc": {
   "base_numbering": 1,
   "nav_menu": {},
   "number_sections": true,
   "sideBar": true,
   "skip_h1_title": true,
   "title_cell": "Table of Contents",
   "title_sidebar": "Contents",
   "toc_cell": true,
   "toc_position": {},
   "toc_section_display": true,
   "toc_window_display": false
  },
  "varInspector": {
   "cols": {
    "lenName": 16,
    "lenType": 16,
    "lenVar": 40
   },
   "kernels_config": {
    "python": {
     "delete_cmd_postfix": "",
     "delete_cmd_prefix": "del ",
     "library": "var_list.py",
     "varRefreshCmd": "print(var_dic_list())"
    },
    "r": {
     "delete_cmd_postfix": ") ",
     "delete_cmd_prefix": "rm(",
     "library": "var_list.r",
     "varRefreshCmd": "cat(var_dic_list()) "
    }
   },
   "types_to_exclude": [
    "module",
    "function",
    "builtin_function_or_method",
    "instance",
    "_Feature"
   ],
   "window_display": false
  }
 },
 "nbformat": 4,
 "nbformat_minor": 5
}
